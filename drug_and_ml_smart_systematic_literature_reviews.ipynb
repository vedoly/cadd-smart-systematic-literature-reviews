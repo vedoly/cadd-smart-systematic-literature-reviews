{
  "nbformat": 4,
  "nbformat_minor": 0,
  "metadata": {
    "colab": {
      "name": "drug_and_ml_smart-systematic-literature-reviews.ipynb",
      "provenance": [],
      "collapsed_sections": [],
      "authorship_tag": "ABX9TyMumGiDmfU/HJxeR9LpdAAL",
      "include_colab_link": true
    },
    "kernelspec": {
      "name": "python3",
      "display_name": "Python 3"
    },
    "language_info": {
      "name": "python"
    }
  },
  "cells": [
    {
      "cell_type": "markdown",
      "metadata": {
        "id": "view-in-github",
        "colab_type": "text"
      },
      "source": [
        "<a href=\"https://colab.research.google.com/github/vedoly/cadd-smart-systematic-literature-reviews/blob/main/drug_and_ml_smart_systematic_literature_reviews.ipynb\" target=\"_parent\"><img src=\"https://colab.research.google.com/assets/colab-badge.svg\" alt=\"Open In Colab\"/></a>"
      ]
    },
    {
      "cell_type": "markdown",
      "metadata": {
        "id": "_SN0nCHi-7fq"
      },
      "source": [
        "# **Get Data**"
      ]
    },
    {
      "cell_type": "markdown",
      "metadata": {
        "id": "I_E6ATPYAka8"
      },
      "source": [
        "##Download Data"
      ]
    },
    {
      "cell_type": "code",
      "metadata": {
        "id": "oU7o2f2T-6Ux"
      },
      "source": [
        "filename = \"csv-moleculeTi-set.csv\"\n",
        "\n",
        "import pandas as pd\n",
        "df = pd.read_csv(filename)"
      ],
      "execution_count": null,
      "outputs": []
    },
    {
      "cell_type": "code",
      "metadata": {
        "colab": {
          "base_uri": "https://localhost:8080/",
          "height": 114
        },
        "id": "40ZOJYzw_jId",
        "outputId": "94c025db-4b07-4ac3-c0d0-984c68c4fc7e"
      },
      "source": [
        "df.head(1)"
      ],
      "execution_count": null,
      "outputs": [
        {
          "output_type": "execute_result",
          "data": {
            "text/html": [
              "<div>\n",
              "<style scoped>\n",
              "    .dataframe tbody tr th:only-of-type {\n",
              "        vertical-align: middle;\n",
              "    }\n",
              "\n",
              "    .dataframe tbody tr th {\n",
              "        vertical-align: top;\n",
              "    }\n",
              "\n",
              "    .dataframe thead th {\n",
              "        text-align: right;\n",
              "    }\n",
              "</style>\n",
              "<table border=\"1\" class=\"dataframe\">\n",
              "  <thead>\n",
              "    <tr style=\"text-align: right;\">\n",
              "      <th></th>\n",
              "      <th>PMID</th>\n",
              "      <th>Title</th>\n",
              "      <th>Authors</th>\n",
              "      <th>Citation</th>\n",
              "      <th>First Author</th>\n",
              "      <th>Journal/Book</th>\n",
              "      <th>Publication Year</th>\n",
              "      <th>Create Date</th>\n",
              "      <th>PMCID</th>\n",
              "      <th>NIHMS ID</th>\n",
              "      <th>DOI</th>\n",
              "    </tr>\n",
              "  </thead>\n",
              "  <tbody>\n",
              "    <tr>\n",
              "      <th>0</th>\n",
              "      <td>29750902</td>\n",
              "      <td>Machine learning in chemoinformatics and drug ...</td>\n",
              "      <td>Lo YC, Rensi SE, Torng W, Altman RB.</td>\n",
              "      <td>Drug Discov Today. 2018 Aug;23(8):1538-1546. d...</td>\n",
              "      <td>Lo YC</td>\n",
              "      <td>Drug Discov Today</td>\n",
              "      <td>2018</td>\n",
              "      <td>2018/05/12</td>\n",
              "      <td>PMC6078794</td>\n",
              "      <td>NIHMS966325</td>\n",
              "      <td>10.1016/j.drudis.2018.05.010</td>\n",
              "    </tr>\n",
              "  </tbody>\n",
              "</table>\n",
              "</div>"
            ],
            "text/plain": [
              "       PMID  ...                           DOI\n",
              "0  29750902  ...  10.1016/j.drudis.2018.05.010\n",
              "\n",
              "[1 rows x 11 columns]"
            ]
          },
          "metadata": {
            "tags": []
          },
          "execution_count": 9
        }
      ]
    },
    {
      "cell_type": "code",
      "metadata": {
        "id": "Jg7jB5f__kFz"
      },
      "source": [
        "df = df[['PMID','Title','Journal/Book','Create Date']]"
      ],
      "execution_count": null,
      "outputs": []
    },
    {
      "cell_type": "code",
      "metadata": {
        "colab": {
          "base_uri": "https://localhost:8080/"
        },
        "id": "JnvXMjhPA7-m",
        "outputId": "df0ff743-dab9-4c8a-ff2c-8adf931db642"
      },
      "source": [
        "len(df)"
      ],
      "execution_count": null,
      "outputs": [
        {
          "output_type": "execute_result",
          "data": {
            "text/plain": [
              "4597"
            ]
          },
          "metadata": {
            "tags": []
          },
          "execution_count": 4
        }
      ]
    },
    {
      "cell_type": "markdown",
      "metadata": {
        "id": "y6W1IuE9AtrH"
      },
      "source": [
        "## Get Keywords from PubMed"
      ]
    },
    {
      "cell_type": "code",
      "metadata": {
        "id": "FBGlH5Ui_-Yi"
      },
      "source": [
        "import requests\n",
        "import numpy as np\n",
        "\n",
        "def getKeywords(pmid):\n",
        "  try:\n",
        "    page = requests.get(\"https://pubmed.ncbi.nlm.nih.gov/\"+str(pmid) )\n",
        "    from bs4 import BeautifulSoup\n",
        "    soup = BeautifulSoup(page.content, 'html.parser')\n",
        "    # print(soup)\n",
        "    return soup.find_all(class_='abstract')[1].find_all('p')[-1].text\n",
        "  except:\n",
        "    return np.nan"
      ],
      "execution_count": null,
      "outputs": []
    },
    {
      "cell_type": "markdown",
      "metadata": {
        "id": "u89W6DUEpaE7"
      },
      "source": [
        ""
      ]
    },
    {
      "cell_type": "code",
      "metadata": {
        "id": "8Kfgn7zBBXah"
      },
      "source": [
        "# around 10 min\n",
        "df['keywords'] = df['PMID'].apply(lambda x: getKeywords(x))\n",
        "df = df.dropna()"
      ],
      "execution_count": null,
      "outputs": []
    },
    {
      "cell_type": "code",
      "metadata": {
        "colab": {
          "base_uri": "https://localhost:8080/",
          "height": 419
        },
        "id": "j9VfgJcHBj-B",
        "outputId": "76fb3d4e-513c-4efe-c5da-636b67854dee"
      },
      "source": [
        "df"
      ],
      "execution_count": null,
      "outputs": [
        {
          "output_type": "execute_result",
          "data": {
            "text/html": [
              "<div>\n",
              "<style scoped>\n",
              "    .dataframe tbody tr th:only-of-type {\n",
              "        vertical-align: middle;\n",
              "    }\n",
              "\n",
              "    .dataframe tbody tr th {\n",
              "        vertical-align: top;\n",
              "    }\n",
              "\n",
              "    .dataframe thead th {\n",
              "        text-align: right;\n",
              "    }\n",
              "</style>\n",
              "<table border=\"1\" class=\"dataframe\">\n",
              "  <thead>\n",
              "    <tr style=\"text-align: right;\">\n",
              "      <th></th>\n",
              "      <th>PMID</th>\n",
              "      <th>Title</th>\n",
              "      <th>Journal/Book</th>\n",
              "      <th>Create Date</th>\n",
              "      <th>keywords</th>\n",
              "    </tr>\n",
              "  </thead>\n",
              "  <tbody>\n",
              "    <tr>\n",
              "      <th>0</th>\n",
              "      <td>29750902</td>\n",
              "      <td>Machine learning in chemoinformatics and drug ...</td>\n",
              "      <td>Drug Discov Today</td>\n",
              "      <td>2018/05/12</td>\n",
              "      <td>\\n      \\n      Chemoinformatics is an establi...</td>\n",
              "    </tr>\n",
              "    <tr>\n",
              "      <th>1</th>\n",
              "      <td>29887378</td>\n",
              "      <td>Next-Generation Machine Learning for Biologica...</td>\n",
              "      <td>Cell</td>\n",
              "      <td>2018/06/12</td>\n",
              "      <td>\\n\\n          Keywords:\\n        \\n      \\n   ...</td>\n",
              "    </tr>\n",
              "    <tr>\n",
              "      <th>2</th>\n",
              "      <td>32084340</td>\n",
              "      <td>A Deep Learning Approach to Antibiotic Discovery</td>\n",
              "      <td>Cell</td>\n",
              "      <td>2020/02/22</td>\n",
              "      <td>\\n\\n          Keywords:\\n        \\n      \\n   ...</td>\n",
              "    </tr>\n",
              "    <tr>\n",
              "      <th>3</th>\n",
              "      <td>31651216</td>\n",
              "      <td>Rethinking Drug Repositioning and Development ...</td>\n",
              "      <td>OMICS</td>\n",
              "      <td>2019/10/26</td>\n",
              "      <td>\\n\\n          Keywords:\\n        \\n      \\n   ...</td>\n",
              "    </tr>\n",
              "    <tr>\n",
              "      <th>4</th>\n",
              "      <td>31294972</td>\n",
              "      <td>Concepts of Artificial Intelligence for Comput...</td>\n",
              "      <td>Chem Rev</td>\n",
              "      <td>2019/07/12</td>\n",
              "      <td>\\n      \\n      Artificial intelligence (AI), ...</td>\n",
              "    </tr>\n",
              "    <tr>\n",
              "      <th>...</th>\n",
              "      <td>...</td>\n",
              "      <td>...</td>\n",
              "      <td>...</td>\n",
              "      <td>...</td>\n",
              "      <td>...</td>\n",
              "    </tr>\n",
              "    <tr>\n",
              "      <th>4592</th>\n",
              "      <td>33561143</td>\n",
              "      <td>HIV incidence after pre-exposure prophylaxis i...</td>\n",
              "      <td>PLoS Med</td>\n",
              "      <td>2021/02/09</td>\n",
              "      <td>\\n\\n          Trial registration:\\n        \\n ...</td>\n",
              "    </tr>\n",
              "    <tr>\n",
              "      <th>4593</th>\n",
              "      <td>31219457</td>\n",
              "      <td>JoVE Methods Collection Highlights: Protein-Pr...</td>\n",
              "      <td>J Vis Exp</td>\n",
              "      <td>2019/06/21</td>\n",
              "      <td>\\n      \\n      Protein-protein interactions (...</td>\n",
              "    </tr>\n",
              "    <tr>\n",
              "      <th>4594</th>\n",
              "      <td>33036834</td>\n",
              "      <td>The future of Cochrane Neonatal</td>\n",
              "      <td>Early Hum Dev</td>\n",
              "      <td>2020/10/10</td>\n",
              "      <td>\\n      \\n      Cochrane Neonatal was first es...</td>\n",
              "    </tr>\n",
              "    <tr>\n",
              "      <th>4595</th>\n",
              "      <td>34158099</td>\n",
              "      <td>A prospective, randomized, single-blinded, cro...</td>\n",
              "      <td>Trials</td>\n",
              "      <td>2021/06/23</td>\n",
              "      <td>\\n\\n          Keywords:\\n        \\n      \\n   ...</td>\n",
              "    </tr>\n",
              "    <tr>\n",
              "      <th>4596</th>\n",
              "      <td>27885969</td>\n",
              "      <td>36th International Symposium on Intensive Care...</td>\n",
              "      <td>Crit Care</td>\n",
              "      <td>2016/11/26</td>\n",
              "      <td>\\n      \\n      A. Giannini, G Miccinesi, T Ma...</td>\n",
              "    </tr>\n",
              "  </tbody>\n",
              "</table>\n",
              "<p>4543 rows × 5 columns</p>\n",
              "</div>"
            ],
            "text/plain": [
              "          PMID  ...                                           keywords\n",
              "0     29750902  ...  \\n      \\n      Chemoinformatics is an establi...\n",
              "1     29887378  ...  \\n\\n          Keywords:\\n        \\n      \\n   ...\n",
              "2     32084340  ...  \\n\\n          Keywords:\\n        \\n      \\n   ...\n",
              "3     31651216  ...  \\n\\n          Keywords:\\n        \\n      \\n   ...\n",
              "4     31294972  ...  \\n      \\n      Artificial intelligence (AI), ...\n",
              "...        ...  ...                                                ...\n",
              "4592  33561143  ...  \\n\\n          Trial registration:\\n        \\n ...\n",
              "4593  31219457  ...  \\n      \\n      Protein-protein interactions (...\n",
              "4594  33036834  ...  \\n      \\n      Cochrane Neonatal was first es...\n",
              "4595  34158099  ...  \\n\\n          Keywords:\\n        \\n      \\n   ...\n",
              "4596  27885969  ...  \\n      \\n      A. Giannini, G Miccinesi, T Ma...\n",
              "\n",
              "[4543 rows x 5 columns]"
            ]
          },
          "metadata": {
            "tags": []
          },
          "execution_count": 17
        }
      ]
    },
    {
      "cell_type": "code",
      "metadata": {
        "id": "jbglsElIRSfh"
      },
      "source": [
        "df.to_csv(\"drug_keywords.csv\",index=False)"
      ],
      "execution_count": null,
      "outputs": []
    },
    {
      "cell_type": "code",
      "metadata": {
        "id": "1rGscSsL2UJu"
      },
      "source": [
        "df = pd.read_csv(\"drug_keywords.csv\")"
      ],
      "execution_count": null,
      "outputs": []
    },
    {
      "cell_type": "markdown",
      "metadata": {
        "id": "4y-gS0GSLV5d"
      },
      "source": [
        "# **Preprocessing Data**"
      ]
    },
    {
      "cell_type": "code",
      "metadata": {
        "id": "YIfXYk4XR_Fg"
      },
      "source": [
        "df['temp'] = df['keywords'].apply(lambda x: x[0:20])\n",
        "df = df[ df['temp'] == '\\n\\n          Keywords']\n",
        "df = df.drop(columns=['temp'])"
      ],
      "execution_count": null,
      "outputs": []
    },
    {
      "cell_type": "code",
      "metadata": {
        "id": "RbMY3K1aSY4g"
      },
      "source": [
        "df['keywords'] = df['keywords'].apply(lambda x:x.strip()[31:-1])"
      ],
      "execution_count": null,
      "outputs": []
    },
    {
      "cell_type": "code",
      "metadata": {
        "id": "TDEgfuC72u1n"
      },
      "source": [
        "df['keywords'] = df['keywords'].apply(lambda x:[e.strip() for e in x.split(\";\")])"
      ],
      "execution_count": null,
      "outputs": []
    },
    {
      "cell_type": "code",
      "metadata": {
        "colab": {
          "base_uri": "https://localhost:8080/"
        },
        "id": "cvX2qwti9ZjH",
        "outputId": "b29b8f21-94bf-4378-f9d1-fbd5d9af28ab"
      },
      "source": [
        "import re\n",
        "import nltk\n",
        "nltk.download('punkt')\n",
        "nltk.download('stopwords')\n",
        "nltk.download('wordnet')\n",
        "stopwords = nltk.corpus.stopwords.words('english')\n",
        "\n",
        "def cleanText(text):\n",
        "  # text = \" \".join(text)\n",
        "  text = [e.lower() for e in text]\n",
        "  text = [re.sub(\"[^-9A-Za-z ]\", \"\" , e) for e in text]\n",
        "\n",
        "  text = [nltk.PorterStemmer().stem(word) for word in text]\n",
        "  text = [nltk.WordNetLemmatizer().lemmatize(word) for word in text]\n",
        "  return text"
      ],
      "execution_count": null,
      "outputs": [
        {
          "output_type": "stream",
          "text": [
            "[nltk_data] Downloading package punkt to /root/nltk_data...\n",
            "[nltk_data]   Package punkt is already up-to-date!\n",
            "[nltk_data] Downloading package stopwords to /root/nltk_data...\n",
            "[nltk_data]   Package stopwords is already up-to-date!\n",
            "[nltk_data] Downloading package wordnet to /root/nltk_data...\n",
            "[nltk_data]   Package wordnet is already up-to-date!\n"
          ],
          "name": "stdout"
        }
      ]
    },
    {
      "cell_type": "code",
      "metadata": {
        "id": "VrhvQzBI9h96"
      },
      "source": [
        "df['keywords'] = df['keywords'].apply(lambda x: cleanText(x))"
      ],
      "execution_count": null,
      "outputs": []
    },
    {
      "cell_type": "code",
      "metadata": {
        "colab": {
          "base_uri": "https://localhost:8080/"
        },
        "id": "rw7xwBQa2vi6",
        "outputId": "25ee590c-ac39-40b8-9300-7986554b6c5e"
      },
      "source": [
        "from nltk import flatten\n",
        "print(\"unique keywords count: \",len(set(flatten(df['keywords'].tolist()))))"
      ],
      "execution_count": null,
      "outputs": [
        {
          "output_type": "stream",
          "text": [
            "unique keywords count:  7141\n"
          ],
          "name": "stdout"
        }
      ]
    },
    {
      "cell_type": "code",
      "metadata": {
        "id": "OtKRA9D844Yr"
      },
      "source": [
        "from collections import Counter\n",
        "keywords_count = Counter(flatten(df['keywords'].tolist()))"
      ],
      "execution_count": null,
      "outputs": []
    },
    {
      "cell_type": "code",
      "metadata": {
        "colab": {
          "base_uri": "https://localhost:8080/",
          "height": 283
        },
        "id": "pCiGpL945Rys",
        "outputId": "28e3e9c3-996a-4692-b5a5-13aa9de509f0"
      },
      "source": [
        "import matplotlib.pyplot as plt\n",
        "import numpy as np\n",
        "%matplotlib inline\n",
        "\n",
        "\n",
        "x = keywords_count.values()\n",
        "plt.axis([1, 128, 0, 0.05]) \n",
        "plt.hist(x, density=True, bins=500)  # density=False would make counts\n",
        "plt.ylabel('Probability')\n",
        "plt.xlabel('Data');\n"
      ],
      "execution_count": null,
      "outputs": [
        {
          "output_type": "display_data",
          "data": {
            "image/png": "[encoded data removed]",
            "text/plain": [
              "<Figure size 432x288 with 1 Axes>"
            ]
          },
          "metadata": {
            "tags": [],
            "needs_background": "light"
          }
        }
      ]
    },
    {
      "cell_type": "code",
      "metadata": {
        "colab": {
          "base_uri": "https://localhost:8080/"
        },
        "id": "FUoL3R067uiM",
        "outputId": "f048a771-4118-4f50-9dde-98e08930b7cb"
      },
      "source": [
        "most_keywords = [key for key in keywords_count.keys() if keywords_count[key] > 5]\n",
        "len(most_keywords)"
      ],
      "execution_count": null,
      "outputs": [
        {
          "output_type": "execute_result",
          "data": {
            "text/plain": [
              "286"
            ]
          },
          "metadata": {
            "tags": []
          },
          "execution_count": 146
        }
      ]
    },
    {
      "cell_type": "code",
      "metadata": {
        "id": "PhFEFbQw_GrN"
      },
      "source": [
        "mkw2idx = dict(zip(most_keywords,range(len(most_keywords))))"
      ],
      "execution_count": null,
      "outputs": []
    },
    {
      "cell_type": "code",
      "metadata": {
        "id": "JZ9TV83o_pSz"
      },
      "source": [
        "import numpy as np\n",
        "def createCatArray(arr):\n",
        "  out = np.zeros((len(mkw2idx)),dtype=int)\n",
        "  for e in arr:\n",
        "    if e in mkw2idx:\n",
        "      out[mkw2idx[e]] = 1\n",
        "  return out"
      ],
      "execution_count": null,
      "outputs": []
    },
    {
      "cell_type": "code",
      "metadata": {
        "id": "TqRk1qZZAnJB"
      },
      "source": [
        "df['cat_features'] = df['keywords'].apply(lambda x: createCatArray(x))"
      ],
      "execution_count": null,
      "outputs": []
    },
    {
      "cell_type": "code",
      "metadata": {
        "colab": {
          "base_uri": "https://localhost:8080/",
          "height": 419
        },
        "id": "AJdvbwDsA029",
        "outputId": "91252d62-96fd-45b0-ec40-5fbc681cd81b"
      },
      "source": [
        "df"
      ],
      "execution_count": null,
      "outputs": [
        {
          "output_type": "execute_result",
          "data": {
            "text/html": [
              "<div>\n",
              "<style scoped>\n",
              "    .dataframe tbody tr th:only-of-type {\n",
              "        vertical-align: middle;\n",
              "    }\n",
              "\n",
              "    .dataframe tbody tr th {\n",
              "        vertical-align: top;\n",
              "    }\n",
              "\n",
              "    .dataframe thead th {\n",
              "        text-align: right;\n",
              "    }\n",
              "</style>\n",
              "<table border=\"1\" class=\"dataframe\">\n",
              "  <thead>\n",
              "    <tr style=\"text-align: right;\">\n",
              "      <th></th>\n",
              "      <th>PMID</th>\n",
              "      <th>Title</th>\n",
              "      <th>Journal/Book</th>\n",
              "      <th>Create Date</th>\n",
              "      <th>keywords</th>\n",
              "      <th>cat_features</th>\n",
              "    </tr>\n",
              "  </thead>\n",
              "  <tbody>\n",
              "    <tr>\n",
              "      <th>1</th>\n",
              "      <td>29887378</td>\n",
              "      <td>Next-Generation Machine Learning for Biologica...</td>\n",
              "      <td>Cell</td>\n",
              "      <td>2018/06/12</td>\n",
              "      <td>[machine lean, deep learn, network biolog, neu...</td>\n",
              "      <td>[1, 1, 1, 0, 0, 0, 0, 0, 0, 0, 0, 0, 0, 0, 0, ...</td>\n",
              "    </tr>\n",
              "    <tr>\n",
              "      <th>2</th>\n",
              "      <td>32084340</td>\n",
              "      <td>A Deep Learning Approach to Antibiotic Discovery</td>\n",
              "      <td>Cell</td>\n",
              "      <td>2020/02/22</td>\n",
              "      <td>[antibiotic resist, antibiotic toler, antibiot...</td>\n",
              "      <td>[0, 0, 0, 1, 1, 1, 1, 0, 0, 0, 0, 0, 0, 0, 0, ...</td>\n",
              "    </tr>\n",
              "    <tr>\n",
              "      <th>3</th>\n",
              "      <td>31651216</td>\n",
              "      <td>Rethinking Drug Repositioning and Development ...</td>\n",
              "      <td>OMICS</td>\n",
              "      <td>2019/10/26</td>\n",
              "      <td>[artificial intellig, drug develop, drug repos...</td>\n",
              "      <td>[0, 0, 0, 0, 0, 0, 1, 1, 1, 1, 1, 1, 0, 0, 0, ...</td>\n",
              "    </tr>\n",
              "    <tr>\n",
              "      <th>5</th>\n",
              "      <td>31374225</td>\n",
              "      <td>Machine learning and data mining frameworks fo...</td>\n",
              "      <td>Pharmacol Ther</td>\n",
              "      <td>2019/08/03</td>\n",
              "      <td>[association rule min, data min, drug response...</td>\n",
              "      <td>[0, 0, 0, 0, 0, 0, 1, 0, 0, 0, 0, 0, 1, 1, 1, ...</td>\n",
              "    </tr>\n",
              "    <tr>\n",
              "      <th>7</th>\n",
              "      <td>30200333</td>\n",
              "      <td>Machine Learning for Drug-Target Interaction P...</td>\n",
              "      <td>Molecules</td>\n",
              "      <td>2018/09/12</td>\n",
              "      <td>[drug discoveri, drug-target interaction predi...</td>\n",
              "      <td>[0, 0, 0, 0, 0, 1, 1, 0, 0, 0, 0, 0, 0, 0, 0, ...</td>\n",
              "    </tr>\n",
              "    <tr>\n",
              "      <th>...</th>\n",
              "      <td>...</td>\n",
              "      <td>...</td>\n",
              "      <td>...</td>\n",
              "      <td>...</td>\n",
              "      <td>...</td>\n",
              "      <td>...</td>\n",
              "    </tr>\n",
              "    <tr>\n",
              "      <th>4532</th>\n",
              "      <td>33746790</td>\n",
              "      <td>Treatment Response Prediction and Individualiz...</td>\n",
              "      <td>Front Psychiatry</td>\n",
              "      <td>2021/03/22</td>\n",
              "      <td>[classif, graph metr, methamphetamine depend, ...</td>\n",
              "      <td>[0, 0, 0, 0, 0, 0, 0, 0, 0, 0, 0, 0, 0, 0, 0, ...</td>\n",
              "    </tr>\n",
              "    <tr>\n",
              "      <th>4533</th>\n",
              "      <td>28960172</td>\n",
              "      <td>Resting-state functional magnetic resonance im...</td>\n",
              "      <td>J Neurosurg Pediatr</td>\n",
              "      <td>2017/09/30</td>\n",
              "      <td>[aed  antiepileptic drug, bold  blood-oxygen l...</td>\n",
              "      <td>[0, 0, 0, 0, 0, 0, 0, 0, 0, 0, 0, 0, 0, 0, 0, ...</td>\n",
              "    </tr>\n",
              "    <tr>\n",
              "      <th>4535</th>\n",
              "      <td>32885678</td>\n",
              "      <td>Prioritizing Candidates of Post-Myocardial Inf...</td>\n",
              "      <td>Circulation</td>\n",
              "      <td>2020/09/05</td>\n",
              "      <td>[heart failur, myocardial infarct, proteom, tr...</td>\n",
              "      <td>[0, 0, 0, 0, 0, 0, 0, 0, 0, 0, 0, 0, 0, 0, 0, ...</td>\n",
              "    </tr>\n",
              "    <tr>\n",
              "      <th>4537</th>\n",
              "      <td>31132237</td>\n",
              "      <td>Identification of Novel Allosteric Modulators ...</td>\n",
              "      <td>ACS Chem Neurosci</td>\n",
              "      <td>2019/05/28</td>\n",
              "      <td>[--chloro---dioxo--dihydro--isoindol--ylmethyl...</td>\n",
              "      <td>[0, 0, 0, 0, 0, 0, 1, 0, 0, 0, 0, 0, 0, 0, 0, ...</td>\n",
              "    </tr>\n",
              "    <tr>\n",
              "      <th>4541</th>\n",
              "      <td>34158099</td>\n",
              "      <td>A prospective, randomized, single-blinded, cro...</td>\n",
              "      <td>Trials</td>\n",
              "      <td>2021/06/23</td>\n",
              "      <td>[covid-9, randomised controlled tri, sars-cov-...</td>\n",
              "      <td>[0, 0, 0, 0, 0, 0, 1, 0, 0, 0, 0, 0, 0, 0, 0, ...</td>\n",
              "    </tr>\n",
              "  </tbody>\n",
              "</table>\n",
              "<p>2617 rows × 6 columns</p>\n",
              "</div>"
            ],
            "text/plain": [
              "          PMID  ...                                       cat_features\n",
              "1     29887378  ...  [1, 1, 1, 0, 0, 0, 0, 0, 0, 0, 0, 0, 0, 0, 0, ...\n",
              "2     32084340  ...  [0, 0, 0, 1, 1, 1, 1, 0, 0, 0, 0, 0, 0, 0, 0, ...\n",
              "3     31651216  ...  [0, 0, 0, 0, 0, 0, 1, 1, 1, 1, 1, 1, 0, 0, 0, ...\n",
              "5     31374225  ...  [0, 0, 0, 0, 0, 0, 1, 0, 0, 0, 0, 0, 1, 1, 1, ...\n",
              "7     30200333  ...  [0, 0, 0, 0, 0, 1, 1, 0, 0, 0, 0, 0, 0, 0, 0, ...\n",
              "...        ...  ...                                                ...\n",
              "4532  33746790  ...  [0, 0, 0, 0, 0, 0, 0, 0, 0, 0, 0, 0, 0, 0, 0, ...\n",
              "4533  28960172  ...  [0, 0, 0, 0, 0, 0, 0, 0, 0, 0, 0, 0, 0, 0, 0, ...\n",
              "4535  32885678  ...  [0, 0, 0, 0, 0, 0, 0, 0, 0, 0, 0, 0, 0, 0, 0, ...\n",
              "4537  31132237  ...  [0, 0, 0, 0, 0, 0, 1, 0, 0, 0, 0, 0, 0, 0, 0, ...\n",
              "4541  34158099  ...  [0, 0, 0, 0, 0, 0, 1, 0, 0, 0, 0, 0, 0, 0, 0, ...\n",
              "\n",
              "[2617 rows x 6 columns]"
            ]
          },
          "metadata": {
            "tags": []
          },
          "execution_count": 164
        }
      ]
    },
    {
      "cell_type": "markdown",
      "metadata": {
        "id": "XNe6O-pfBbUZ"
      },
      "source": [
        "# **Analyze Data**"
      ]
    },
    {
      "cell_type": "code",
      "metadata": {
        "id": "_LaK-AU9Bg0K"
      },
      "source": [
        "X = df.cat_features.tolist()"
      ],
      "execution_count": null,
      "outputs": []
    },
    {
      "cell_type": "code",
      "metadata": {
        "id": "vK92J-B_BkzT"
      },
      "source": [
        "pca_components = 2\n",
        "\n",
        "from sklearn.decomposition import PCA\n",
        "pca = PCA(n_components=pca_components)\n",
        "principalComponents = pca.fit_transform(X)\n",
        "principalDf = pd.DataFrame(data = principalComponents\n",
        "             , columns = list(range(pca_components)))"
      ],
      "execution_count": null,
      "outputs": []
    },
    {
      "cell_type": "code",
      "metadata": {
        "colab": {
          "base_uri": "https://localhost:8080/",
          "height": 267
        },
        "id": "hu-iT_wIBr3Q",
        "outputId": "c07a5bad-a673-4adf-9197-15feffad74e4"
      },
      "source": [
        "x = principalDf[0]\n",
        "y = principalDf[1]\n",
        "\n",
        "plt.plot(x, y, '.', color='black');"
      ],
      "execution_count": null,
      "outputs": [
        {
          "output_type": "display_data",
          "data": {
            "image/png": "[encoded data removed]",
            "text/plain": [
              "<Figure size 432x288 with 1 Axes>"
            ]
          },
          "metadata": {
            "tags": [],
            "needs_background": "light"
          }
        }
      ]
    },
    {
      "cell_type": "code",
      "metadata": {
        "id": "WX7WpJgHBydQ"
      },
      "source": [
        ""
      ],
      "execution_count": null,
      "outputs": []
    }
  ]
}