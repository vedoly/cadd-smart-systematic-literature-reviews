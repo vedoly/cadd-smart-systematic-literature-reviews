{
  "nbformat": 4,
  "nbformat_minor": 0,
  "metadata": {
    "colab": {
      "name": "cadd-smart-systematic-literature-reviews.ipynb",
      "provenance": [],
      "authorship_tag": "ABX9TyNdHLoQ7rtvUWlFICdMs+Vx",
      "include_colab_link": true
    },
    "kernelspec": {
      "name": "python3",
      "display_name": "Python 3"
    },
    "language_info": {
      "name": "python"
    }
  },
  "cells": [
    {
      "cell_type": "markdown",
      "metadata": {
        "id": "view-in-github",
        "colab_type": "text"
      },
      "source": [
        "<a href=\"https://colab.research.google.com/github/vedoly/cadd-smart-systematic-literature-reviews/blob/main/cadd_smart_systematic_literature_reviews.ipynb\" target=\"_parent\"><img src=\"https://colab.research.google.com/assets/colab-badge.svg\" alt=\"Open In Colab\"/></a>"
      ]
    },
    {
      "cell_type": "markdown",
      "metadata": {
        "id": "_SN0nCHi-7fq"
      },
      "source": [
        "# **Get Data**"
      ]
    },
    {
      "cell_type": "markdown",
      "metadata": {
        "id": "I_E6ATPYAka8"
      },
      "source": [
        "##Download Data"
      ]
    },
    {
      "cell_type": "code",
      "metadata": {
        "colab": {
          "base_uri": "https://localhost:8080/"
        },
        "id": "lxC4t9Ul7p5E",
        "outputId": "1501be1b-4146-4332-9fc2-ffb5b0192175"
      },
      "source": [
        "!gdown --id 15CyLhkOFnHIQhqmrjORRjQIgGdEelYHH"
      ],
      "execution_count": 1,
      "outputs": [
        {
          "output_type": "stream",
          "text": [
            "Downloading...\n",
            "From: https://drive.google.com/uc?id=15CyLhkOFnHIQhqmrjORRjQIgGdEelYHH\n",
            "To: /content/csv-drugdiscov-set.csv\n",
            "\r  0% 0.00/349k [00:00<?, ?B/s]\r100% 349k/349k [00:00<00:00, 3.02MB/s]\n"
          ],
          "name": "stdout"
        }
      ]
    },
    {
      "cell_type": "code",
      "metadata": {
        "id": "oU7o2f2T-6Ux"
      },
      "source": [
        "import pandas as pd\n",
        "df = pd.read_csv('csv-drugdiscov-set.csv')"
      ],
      "execution_count": 2,
      "outputs": []
    },
    {
      "cell_type": "code",
      "metadata": {
        "colab": {
          "base_uri": "https://localhost:8080/",
          "height": 185
        },
        "id": "40ZOJYzw_jId",
        "outputId": "98e0b95f-c6d8-472c-b709-04530e4c3a92"
      },
      "source": [
        "df.head(1)"
      ],
      "execution_count": 3,
      "outputs": [
        {
          "output_type": "execute_result",
          "data": {
            "text/html": [
              "<div>\n",
              "<style scoped>\n",
              "    .dataframe tbody tr th:only-of-type {\n",
              "        vertical-align: middle;\n",
              "    }\n",
              "\n",
              "    .dataframe tbody tr th {\n",
              "        vertical-align: top;\n",
              "    }\n",
              "\n",
              "    .dataframe thead th {\n",
              "        text-align: right;\n",
              "    }\n",
              "</style>\n",
              "<table border=\"1\" class=\"dataframe\">\n",
              "  <thead>\n",
              "    <tr style=\"text-align: right;\">\n",
              "      <th></th>\n",
              "      <th>PMID</th>\n",
              "      <th>Title</th>\n",
              "      <th>Authors</th>\n",
              "      <th>Citation</th>\n",
              "      <th>First Author</th>\n",
              "      <th>Journal/Book</th>\n",
              "      <th>Publication Year</th>\n",
              "      <th>Create Date</th>\n",
              "      <th>PMCID</th>\n",
              "      <th>NIHMS ID</th>\n",
              "      <th>DOI</th>\n",
              "    </tr>\n",
              "  </thead>\n",
              "  <tbody>\n",
              "    <tr>\n",
              "      <th>0</th>\n",
              "      <td>30976107</td>\n",
              "      <td>Applications of machine learning in drug disco...</td>\n",
              "      <td>Vamathevan J, Clark D, Czodrowski P, Dunham I,...</td>\n",
              "      <td>Nat Rev Drug Discov. 2019 Jun;18(6):463-477. d...</td>\n",
              "      <td>Vamathevan J</td>\n",
              "      <td>Nat Rev Drug Discov</td>\n",
              "      <td>2019</td>\n",
              "      <td>2019/04/13</td>\n",
              "      <td>PMC6552674</td>\n",
              "      <td>NIHMS1029624</td>\n",
              "      <td>10.1038/s41573-019-0024-5</td>\n",
              "    </tr>\n",
              "  </tbody>\n",
              "</table>\n",
              "</div>"
            ],
            "text/plain": [
              "       PMID  ...                        DOI\n",
              "0  30976107  ...  10.1038/s41573-019-0024-5\n",
              "\n",
              "[1 rows x 11 columns]"
            ]
          },
          "metadata": {
            "tags": []
          },
          "execution_count": 3
        }
      ]
    },
    {
      "cell_type": "code",
      "metadata": {
        "id": "Jg7jB5f__kFz"
      },
      "source": [
        "df = df[['PMID','Title','Journal/Book','Create Date']]"
      ],
      "execution_count": 4,
      "outputs": []
    },
    {
      "cell_type": "code",
      "metadata": {
        "colab": {
          "base_uri": "https://localhost:8080/"
        },
        "id": "JnvXMjhPA7-m",
        "outputId": "e43cc57f-9567-4b75-d20f-4bd47584e3d7"
      },
      "source": [
        "len(df)"
      ],
      "execution_count": 5,
      "outputs": [
        {
          "output_type": "execute_result",
          "data": {
            "text/plain": [
              "1015"
            ]
          },
          "metadata": {
            "tags": []
          },
          "execution_count": 5
        }
      ]
    },
    {
      "cell_type": "markdown",
      "metadata": {
        "id": "y6W1IuE9AtrH"
      },
      "source": [
        "## Get Abstract from PubMed"
      ]
    },
    {
      "cell_type": "code",
      "metadata": {
        "id": "FBGlH5Ui_-Yi"
      },
      "source": [
        "import requests\n",
        "import numpy as np\n",
        "\n",
        "def getAbstract(pmid):\n",
        "  try:\n",
        "    page = requests.get(\"https://pubmed.ncbi.nlm.nih.gov/\"+str(pmid) )\n",
        "    from bs4 import BeautifulSoup\n",
        "    soup = BeautifulSoup(page.content, 'html.parser')\n",
        "    return soup.find_all(class_='abstract-content selected')[0].p.text.strip()\n",
        "  except:\n",
        "    return np.nan"
      ],
      "execution_count": 8,
      "outputs": []
    },
    {
      "cell_type": "code",
      "metadata": {
        "id": "8Kfgn7zBBXah"
      },
      "source": [
        "# around 10 min\n",
        "df['abstract'] = df['PMID'].apply(lambda x: getAbstract(x))\n",
        "df = df.dropna()"
      ],
      "execution_count": 9,
      "outputs": []
    },
    {
      "cell_type": "code",
      "metadata": {
        "colab": {
          "base_uri": "https://localhost:8080/",
          "height": 546
        },
        "id": "j9VfgJcHBj-B",
        "outputId": "221f28e7-7376-4d86-97b4-5230f6d64f0c"
      },
      "source": [
        "df.head(10)"
      ],
      "execution_count": 26,
      "outputs": [
        {
          "output_type": "execute_result",
          "data": {
            "text/html": [
              "<div>\n",
              "<style scoped>\n",
              "    .dataframe tbody tr th:only-of-type {\n",
              "        vertical-align: middle;\n",
              "    }\n",
              "\n",
              "    .dataframe tbody tr th {\n",
              "        vertical-align: top;\n",
              "    }\n",
              "\n",
              "    .dataframe thead th {\n",
              "        text-align: right;\n",
              "    }\n",
              "</style>\n",
              "<table border=\"1\" class=\"dataframe\">\n",
              "  <thead>\n",
              "    <tr style=\"text-align: right;\">\n",
              "      <th></th>\n",
              "      <th>PMID</th>\n",
              "      <th>Title</th>\n",
              "      <th>Journal/Book</th>\n",
              "      <th>Create Date</th>\n",
              "      <th>abstract</th>\n",
              "    </tr>\n",
              "  </thead>\n",
              "  <tbody>\n",
              "    <tr>\n",
              "      <th>0</th>\n",
              "      <td>30976107</td>\n",
              "      <td>Applications of machine learning in drug disco...</td>\n",
              "      <td>Nat Rev Drug Discov</td>\n",
              "      <td>2019/04/13</td>\n",
              "      <td>Drug discovery and development pipelines are l...</td>\n",
              "    </tr>\n",
              "    <tr>\n",
              "      <th>1</th>\n",
              "      <td>29750902</td>\n",
              "      <td>Machine learning in chemoinformatics and drug ...</td>\n",
              "      <td>Drug Discov Today</td>\n",
              "      <td>2018/05/12</td>\n",
              "      <td>Chemoinformatics is an established discipline ...</td>\n",
              "    </tr>\n",
              "    <tr>\n",
              "      <th>2</th>\n",
              "      <td>29887378</td>\n",
              "      <td>Next-Generation Machine Learning for Biologica...</td>\n",
              "      <td>Cell</td>\n",
              "      <td>2018/06/12</td>\n",
              "      <td>Machine learning, a collection of data-analyti...</td>\n",
              "    </tr>\n",
              "    <tr>\n",
              "      <th>3</th>\n",
              "      <td>31000803</td>\n",
              "      <td>Exploiting machine learning for end-to-end dru...</td>\n",
              "      <td>Nat Mater</td>\n",
              "      <td>2019/04/20</td>\n",
              "      <td>A variety of machine learning methods such as ...</td>\n",
              "    </tr>\n",
              "    <tr>\n",
              "      <th>4</th>\n",
              "      <td>29879881</td>\n",
              "      <td>Machine Learning-based Virtual Screening and I...</td>\n",
              "      <td>Curr Pharm Des</td>\n",
              "      <td>2018/06/09</td>\n",
              "      <td>Background:\\n        \\n      \\n      Virtual S...</td>\n",
              "    </tr>\n",
              "    <tr>\n",
              "      <th>5</th>\n",
              "      <td>30084866</td>\n",
              "      <td>Recent applications of deep learning and machi...</td>\n",
              "      <td>Brief Bioinform</td>\n",
              "      <td>2018/08/08</td>\n",
              "      <td>The identification of interactions between dru...</td>\n",
              "    </tr>\n",
              "    <tr>\n",
              "      <th>6</th>\n",
              "      <td>31905263</td>\n",
              "      <td>Machine Learning in Drug Discovery and Develop...</td>\n",
              "      <td>CPT Pharmacometrics Syst Pharmacol</td>\n",
              "      <td>2020/01/07</td>\n",
              "      <td>Artificial intelligence, in particular machine...</td>\n",
              "    </tr>\n",
              "    <tr>\n",
              "      <th>7</th>\n",
              "      <td>29603063</td>\n",
              "      <td>Deep Learning for Drug Design: an Artificial I...</td>\n",
              "      <td>AAPS J</td>\n",
              "      <td>2018/04/01</td>\n",
              "      <td>Over the last decade, deep learning (DL) metho...</td>\n",
              "    </tr>\n",
              "    <tr>\n",
              "      <th>8</th>\n",
              "      <td>31294972</td>\n",
              "      <td>Concepts of Artificial Intelligence for Comput...</td>\n",
              "      <td>Chem Rev</td>\n",
              "      <td>2019/07/12</td>\n",
              "      <td>Artificial intelligence (AI), and, in particul...</td>\n",
              "    </tr>\n",
              "    <tr>\n",
              "      <th>9</th>\n",
              "      <td>31174387</td>\n",
              "      <td>A Structure-Based Drug Discovery Paradigm</td>\n",
              "      <td>Int J Mol Sci</td>\n",
              "      <td>2019/06/09</td>\n",
              "      <td>Structure-based drug design is becoming an ess...</td>\n",
              "    </tr>\n",
              "  </tbody>\n",
              "</table>\n",
              "</div>"
            ],
            "text/plain": [
              "       PMID  ...                                           abstract\n",
              "0  30976107  ...  Drug discovery and development pipelines are l...\n",
              "1  29750902  ...  Chemoinformatics is an established discipline ...\n",
              "2  29887378  ...  Machine learning, a collection of data-analyti...\n",
              "3  31000803  ...  A variety of machine learning methods such as ...\n",
              "4  29879881  ...  Background:\\n        \\n      \\n      Virtual S...\n",
              "5  30084866  ...  The identification of interactions between dru...\n",
              "6  31905263  ...  Artificial intelligence, in particular machine...\n",
              "7  29603063  ...  Over the last decade, deep learning (DL) metho...\n",
              "8  31294972  ...  Artificial intelligence (AI), and, in particul...\n",
              "9  31174387  ...  Structure-based drug design is becoming an ess...\n",
              "\n",
              "[10 rows x 5 columns]"
            ]
          },
          "metadata": {
            "tags": []
          },
          "execution_count": 26
        }
      ]
    },
    {
      "cell_type": "markdown",
      "metadata": {
        "id": "4y-gS0GSLV5d"
      },
      "source": [
        "# **Preprocessing Data**"
      ]
    },
    {
      "cell_type": "markdown",
      "metadata": {
        "id": "oxlSztB1L0ng"
      },
      "source": [
        "## Cleaning Abstract Text"
      ]
    },
    {
      "cell_type": "code",
      "metadata": {
        "id": "2Sb3lN56LZzj"
      },
      "source": [
        "test_text = df['abstract'].iloc[0]"
      ],
      "execution_count": 40,
      "outputs": []
    },
    {
      "cell_type": "code",
      "metadata": {
        "colab": {
          "base_uri": "https://localhost:8080/",
          "height": 171
        },
        "id": "XKpDKLCrMM4U",
        "outputId": "45cbe922-a21d-4244-ac1d-ef8787a5484b"
      },
      "source": [
        "test_text"
      ],
      "execution_count": 41,
      "outputs": [
        {
          "output_type": "execute_result",
          "data": {
            "application/vnd.google.colaboratory.intrinsic+json": {
              "type": "string"
            },
            "text/plain": [
              "'Drug discovery and development pipelines are long, complex and depend on numerous factors. Machine learning (ML) approaches provide a set of tools that can improve discovery and decision making for well-specified questions with abundant, high-quality data. Opportunities to apply ML occur in all stages of drug discovery. Examples include target validation, identification of prognostic biomarkers and analysis of digital pathology data in clinical trials. Applications have ranged in context and methodology, with some approaches yielding accurate predictions and insights. The challenges of applying ML lie primarily with the lack of interpretability and repeatability of ML-generated results, which may limit their application. In all areas, systematic and comprehensive high-dimensional data still need to be generated. With ongoing efforts to tackle these issues, as well as increasing awareness of the factors needed to validate ML approaches, the application of ML can promote data-driven decision making and has the potential to speed up the process and reduce failure rates in drug discovery and development.'"
            ]
          },
          "metadata": {
            "tags": []
          },
          "execution_count": 41
        }
      ]
    },
    {
      "cell_type": "code",
      "metadata": {
        "colab": {
          "base_uri": "https://localhost:8080/"
        },
        "id": "H8ZFIoNcMN8C",
        "outputId": "8b5a3363-4bc2-4977-e52a-78ff57b92510"
      },
      "source": [
        "import re\n",
        "import nltk\n",
        "nltk.download('punkt')\n",
        "nltk.download('stopwords')\n",
        "nltk.download('wordnet')\n",
        "stopwords = nltk.corpus.stopwords.words('english')\n",
        "\n",
        "def cleanText(text):\n",
        "  text = text.replace(\"\\n\",\" \")\n",
        "  text = text.replace(\"\\t\",\" \")\n",
        "  text = text.lower()\n",
        "  text = re.sub(\"\\s+\",\" \", text)\n",
        "  text = re.sub(\"[^-9A-Za-z ]\", \"\" , text)\n",
        "  text = nltk.tokenize.word_tokenize(text)\n",
        "  text = [i for i in text if i not in stopwords]\n",
        "  text = [nltk.PorterStemmer().stem(word) for word in text]\n",
        "  text = [nltk.WordNetLemmatizer().lemmatize(word) for word in text]\n",
        "  return text"
      ],
      "execution_count": 59,
      "outputs": [
        {
          "output_type": "stream",
          "text": [
            "[nltk_data] Downloading package punkt to /root/nltk_data...\n",
            "[nltk_data]   Package punkt is already up-to-date!\n",
            "[nltk_data] Downloading package stopwords to /root/nltk_data...\n",
            "[nltk_data]   Package stopwords is already up-to-date!\n",
            "[nltk_data] Downloading package wordnet to /root/nltk_data...\n",
            "[nltk_data]   Unzipping corpora/wordnet.zip.\n"
          ],
          "name": "stdout"
        }
      ]
    },
    {
      "cell_type": "code",
      "metadata": {
        "colab": {
          "base_uri": "https://localhost:8080/"
        },
        "id": "9WmELs6IMY5Y",
        "outputId": "6fa2b026-67f7-4699-de45-495d96c9e340"
      },
      "source": [
        "df['clean_abstract'] = df['abstract'].apply(lambda x:cleanText(x))"
      ],
      "execution_count": 66,
      "outputs": [
        {
          "output_type": "stream",
          "text": [
            "/usr/local/lib/python3.7/dist-packages/ipykernel_launcher.py:1: SettingWithCopyWarning: \n",
            "A value is trying to be set on a copy of a slice from a DataFrame.\n",
            "Try using .loc[row_indexer,col_indexer] = value instead\n",
            "\n",
            "See the caveats in the documentation: https://pandas.pydata.org/pandas-docs/stable/user_guide/indexing.html#returning-a-view-versus-a-copy\n",
            "  \"\"\"Entry point for launching an IPython kernel.\n"
          ],
          "name": "stderr"
        }
      ]
    },
    {
      "cell_type": "code",
      "metadata": {
        "id": "5NynGTgKQ_BT"
      },
      "source": [
        "df.to_csv('drug_abstract.csv',index=False)"
      ],
      "execution_count": 68,
      "outputs": []
    },
    {
      "cell_type": "code",
      "metadata": {
        "id": "r1ZndBINMbDW"
      },
      "source": [
        "ps = nltk.PorterStemmer()\n",
        "text = [nltk.PorterStemmer().stem(word) for word in text]\n",
        "print(w)"
      ],
      "execution_count": null,
      "outputs": []
    }
  ]
}