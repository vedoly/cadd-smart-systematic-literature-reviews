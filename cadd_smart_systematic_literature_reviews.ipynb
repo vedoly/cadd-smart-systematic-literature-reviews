{
  "nbformat": 4,
  "nbformat_minor": 0,
  "metadata": {
    "colab": {
      "name": "cadd-smart-systematic-literature-reviews.ipynb",
      "provenance": [],
      "toc_visible": true,
      "authorship_tag": "ABX9TyMj+ESRRJNfAleccdrmcYXW",
      "include_colab_link": true
    },
    "kernelspec": {
      "name": "python3",
      "display_name": "Python 3"
    },
    "language_info": {
      "name": "python"
    }
  },
  "cells": [
    {
      "cell_type": "markdown",
      "metadata": {
        "id": "view-in-github",
        "colab_type": "text"
      },
      "source": [
        "<a href=\"https://colab.research.google.com/github/vedoly/cadd-smart-systematic-literature-reviews/blob/main/cadd_smart_systematic_literature_reviews.ipynb\" target=\"_parent\"><img src=\"https://colab.research.google.com/assets/colab-badge.svg\" alt=\"Open In Colab\"/></a>"
      ]
    },
    {
      "cell_type": "markdown",
      "metadata": {
        "id": "_SN0nCHi-7fq"
      },
      "source": [
        "# **Get Data**"
      ]
    },
    {
      "cell_type": "markdown",
      "metadata": {
        "id": "I_E6ATPYAka8"
      },
      "source": [
        "##Download Data"
      ]
    },
    {
      "cell_type": "code",
      "metadata": {
        "colab": {
          "base_uri": "https://localhost:8080/"
        },
        "id": "lxC4t9Ul7p5E",
        "outputId": "1501be1b-4146-4332-9fc2-ffb5b0192175"
      },
      "source": [
        "!gdown --id 15CyLhkOFnHIQhqmrjORRjQIgGdEelYHH"
      ],
      "execution_count": 1,
      "outputs": [
        {
          "output_type": "stream",
          "text": [
            "Downloading...\n",
            "From: https://drive.google.com/uc?id=15CyLhkOFnHIQhqmrjORRjQIgGdEelYHH\n",
            "To: /content/csv-drugdiscov-set.csv\n",
            "\r  0% 0.00/349k [00:00<?, ?B/s]\r100% 349k/349k [00:00<00:00, 3.02MB/s]\n"
          ],
          "name": "stdout"
        }
      ]
    },
    {
      "cell_type": "code",
      "metadata": {
        "id": "oU7o2f2T-6Ux"
      },
      "source": [
        "import pandas as pd\n",
        "df = pd.read_csv('csv-drugdiscov-set.csv')"
      ],
      "execution_count": 2,
      "outputs": []
    },
    {
      "cell_type": "code",
      "metadata": {
        "colab": {
          "base_uri": "https://localhost:8080/",
          "height": 185
        },
        "id": "40ZOJYzw_jId",
        "outputId": "98e0b95f-c6d8-472c-b709-04530e4c3a92"
      },
      "source": [
        "df.head(1)"
      ],
      "execution_count": 3,
      "outputs": [
        {
          "output_type": "execute_result",
          "data": {
            "text/html": [
              "<div>\n",
              "<style scoped>\n",
              "    .dataframe tbody tr th:only-of-type {\n",
              "        vertical-align: middle;\n",
              "    }\n",
              "\n",
              "    .dataframe tbody tr th {\n",
              "        vertical-align: top;\n",
              "    }\n",
              "\n",
              "    .dataframe thead th {\n",
              "        text-align: right;\n",
              "    }\n",
              "</style>\n",
              "<table border=\"1\" class=\"dataframe\">\n",
              "  <thead>\n",
              "    <tr style=\"text-align: right;\">\n",
              "      <th></th>\n",
              "      <th>PMID</th>\n",
              "      <th>Title</th>\n",
              "      <th>Authors</th>\n",
              "      <th>Citation</th>\n",
              "      <th>First Author</th>\n",
              "      <th>Journal/Book</th>\n",
              "      <th>Publication Year</th>\n",
              "      <th>Create Date</th>\n",
              "      <th>PMCID</th>\n",
              "      <th>NIHMS ID</th>\n",
              "      <th>DOI</th>\n",
              "    </tr>\n",
              "  </thead>\n",
              "  <tbody>\n",
              "    <tr>\n",
              "      <th>0</th>\n",
              "      <td>30976107</td>\n",
              "      <td>Applications of machine learning in drug disco...</td>\n",
              "      <td>Vamathevan J, Clark D, Czodrowski P, Dunham I,...</td>\n",
              "      <td>Nat Rev Drug Discov. 2019 Jun;18(6):463-477. d...</td>\n",
              "      <td>Vamathevan J</td>\n",
              "      <td>Nat Rev Drug Discov</td>\n",
              "      <td>2019</td>\n",
              "      <td>2019/04/13</td>\n",
              "      <td>PMC6552674</td>\n",
              "      <td>NIHMS1029624</td>\n",
              "      <td>10.1038/s41573-019-0024-5</td>\n",
              "    </tr>\n",
              "  </tbody>\n",
              "</table>\n",
              "</div>"
            ],
            "text/plain": [
              "       PMID  ...                        DOI\n",
              "0  30976107  ...  10.1038/s41573-019-0024-5\n",
              "\n",
              "[1 rows x 11 columns]"
            ]
          },
          "metadata": {
            "tags": []
          },
          "execution_count": 3
        }
      ]
    },
    {
      "cell_type": "code",
      "metadata": {
        "id": "Jg7jB5f__kFz"
      },
      "source": [
        "df = df[['PMID','Title','Journal/Book','Create Date']]"
      ],
      "execution_count": 4,
      "outputs": []
    },
    {
      "cell_type": "code",
      "metadata": {
        "colab": {
          "base_uri": "https://localhost:8080/"
        },
        "id": "JnvXMjhPA7-m",
        "outputId": "e43cc57f-9567-4b75-d20f-4bd47584e3d7"
      },
      "source": [
        "len(df)"
      ],
      "execution_count": 5,
      "outputs": [
        {
          "output_type": "execute_result",
          "data": {
            "text/plain": [
              "1015"
            ]
          },
          "metadata": {
            "tags": []
          },
          "execution_count": 5
        }
      ]
    },
    {
      "cell_type": "markdown",
      "metadata": {
        "id": "y6W1IuE9AtrH"
      },
      "source": [
        "## Get Abstract from PubMed"
      ]
    },
    {
      "cell_type": "code",
      "metadata": {
        "id": "FBGlH5Ui_-Yi"
      },
      "source": [
        "import requests\n",
        "import numpy as np\n",
        "\n",
        "def getAbstract(pmid):\n",
        "  try:\n",
        "    page = requests.get(\"https://pubmed.ncbi.nlm.nih.gov/\"+str(pmid) )\n",
        "    from bs4 import BeautifulSoup\n",
        "    soup = BeautifulSoup(page.content, 'html.parser')\n",
        "    return soup.find_all(class_='abstract-content selected')[0].p.text.strip()\n",
        "  except:\n",
        "    return np.nan"
      ],
      "execution_count": 8,
      "outputs": []
    },
    {
      "cell_type": "code",
      "metadata": {
        "id": "8Kfgn7zBBXah"
      },
      "source": [
        "# around 10 min\n",
        "df['abstract'] = df['PMID'].apply(lambda x: getAbstract(x))\n",
        "df = df.dropna()"
      ],
      "execution_count": 9,
      "outputs": []
    },
    {
      "cell_type": "code",
      "metadata": {
        "colab": {
          "base_uri": "https://localhost:8080/",
          "height": 546
        },
        "id": "j9VfgJcHBj-B",
        "outputId": "221f28e7-7376-4d86-97b4-5230f6d64f0c"
      },
      "source": [
        "df.head(10)"
      ],
      "execution_count": 26,
      "outputs": [
        {
          "output_type": "execute_result",
          "data": {
            "text/html": [
              "<div>\n",
              "<style scoped>\n",
              "    .dataframe tbody tr th:only-of-type {\n",
              "        vertical-align: middle;\n",
              "    }\n",
              "\n",
              "    .dataframe tbody tr th {\n",
              "        vertical-align: top;\n",
              "    }\n",
              "\n",
              "    .dataframe thead th {\n",
              "        text-align: right;\n",
              "    }\n",
              "</style>\n",
              "<table border=\"1\" class=\"dataframe\">\n",
              "  <thead>\n",
              "    <tr style=\"text-align: right;\">\n",
              "      <th></th>\n",
              "      <th>PMID</th>\n",
              "      <th>Title</th>\n",
              "      <th>Journal/Book</th>\n",
              "      <th>Create Date</th>\n",
              "      <th>abstract</th>\n",
              "    </tr>\n",
              "  </thead>\n",
              "  <tbody>\n",
              "    <tr>\n",
              "      <th>0</th>\n",
              "      <td>30976107</td>\n",
              "      <td>Applications of machine learning in drug disco...</td>\n",
              "      <td>Nat Rev Drug Discov</td>\n",
              "      <td>2019/04/13</td>\n",
              "      <td>Drug discovery and development pipelines are l...</td>\n",
              "    </tr>\n",
              "    <tr>\n",
              "      <th>1</th>\n",
              "      <td>29750902</td>\n",
              "      <td>Machine learning in chemoinformatics and drug ...</td>\n",
              "      <td>Drug Discov Today</td>\n",
              "      <td>2018/05/12</td>\n",
              "      <td>Chemoinformatics is an established discipline ...</td>\n",
              "    </tr>\n",
              "    <tr>\n",
              "      <th>2</th>\n",
              "      <td>29887378</td>\n",
              "      <td>Next-Generation Machine Learning for Biologica...</td>\n",
              "      <td>Cell</td>\n",
              "      <td>2018/06/12</td>\n",
              "      <td>Machine learning, a collection of data-analyti...</td>\n",
              "    </tr>\n",
              "    <tr>\n",
              "      <th>3</th>\n",
              "      <td>31000803</td>\n",
              "      <td>Exploiting machine learning for end-to-end dru...</td>\n",
              "      <td>Nat Mater</td>\n",
              "      <td>2019/04/20</td>\n",
              "      <td>A variety of machine learning methods such as ...</td>\n",
              "    </tr>\n",
              "    <tr>\n",
              "      <th>4</th>\n",
              "      <td>29879881</td>\n",
              "      <td>Machine Learning-based Virtual Screening and I...</td>\n",
              "      <td>Curr Pharm Des</td>\n",
              "      <td>2018/06/09</td>\n",
              "      <td>Background:\\n        \\n      \\n      Virtual S...</td>\n",
              "    </tr>\n",
              "    <tr>\n",
              "      <th>5</th>\n",
              "      <td>30084866</td>\n",
              "      <td>Recent applications of deep learning and machi...</td>\n",
              "      <td>Brief Bioinform</td>\n",
              "      <td>2018/08/08</td>\n",
              "      <td>The identification of interactions between dru...</td>\n",
              "    </tr>\n",
              "    <tr>\n",
              "      <th>6</th>\n",
              "      <td>31905263</td>\n",
              "      <td>Machine Learning in Drug Discovery and Develop...</td>\n",
              "      <td>CPT Pharmacometrics Syst Pharmacol</td>\n",
              "      <td>2020/01/07</td>\n",
              "      <td>Artificial intelligence, in particular machine...</td>\n",
              "    </tr>\n",
              "    <tr>\n",
              "      <th>7</th>\n",
              "      <td>29603063</td>\n",
              "      <td>Deep Learning for Drug Design: an Artificial I...</td>\n",
              "      <td>AAPS J</td>\n",
              "      <td>2018/04/01</td>\n",
              "      <td>Over the last decade, deep learning (DL) metho...</td>\n",
              "    </tr>\n",
              "    <tr>\n",
              "      <th>8</th>\n",
              "      <td>31294972</td>\n",
              "      <td>Concepts of Artificial Intelligence for Comput...</td>\n",
              "      <td>Chem Rev</td>\n",
              "      <td>2019/07/12</td>\n",
              "      <td>Artificial intelligence (AI), and, in particul...</td>\n",
              "    </tr>\n",
              "    <tr>\n",
              "      <th>9</th>\n",
              "      <td>31174387</td>\n",
              "      <td>A Structure-Based Drug Discovery Paradigm</td>\n",
              "      <td>Int J Mol Sci</td>\n",
              "      <td>2019/06/09</td>\n",
              "      <td>Structure-based drug design is becoming an ess...</td>\n",
              "    </tr>\n",
              "  </tbody>\n",
              "</table>\n",
              "</div>"
            ],
            "text/plain": [
              "       PMID  ...                                           abstract\n",
              "0  30976107  ...  Drug discovery and development pipelines are l...\n",
              "1  29750902  ...  Chemoinformatics is an established discipline ...\n",
              "2  29887378  ...  Machine learning, a collection of data-analyti...\n",
              "3  31000803  ...  A variety of machine learning methods such as ...\n",
              "4  29879881  ...  Background:\\n        \\n      \\n      Virtual S...\n",
              "5  30084866  ...  The identification of interactions between dru...\n",
              "6  31905263  ...  Artificial intelligence, in particular machine...\n",
              "7  29603063  ...  Over the last decade, deep learning (DL) metho...\n",
              "8  31294972  ...  Artificial intelligence (AI), and, in particul...\n",
              "9  31174387  ...  Structure-based drug design is becoming an ess...\n",
              "\n",
              "[10 rows x 5 columns]"
            ]
          },
          "metadata": {
            "tags": []
          },
          "execution_count": 26
        }
      ]
    },
    {
      "cell_type": "markdown",
      "metadata": {
        "id": "4y-gS0GSLV5d"
      },
      "source": [
        "# **Preprocessing Data**"
      ]
    },
    {
      "cell_type": "markdown",
      "metadata": {
        "id": "oxlSztB1L0ng"
      },
      "source": [
        "## Cleaning Abstract Text"
      ]
    },
    {
      "cell_type": "code",
      "metadata": {
        "id": "2Sb3lN56LZzj"
      },
      "source": [
        "test_text = df['abstract'].iloc[0]"
      ],
      "execution_count": 40,
      "outputs": []
    },
    {
      "cell_type": "code",
      "metadata": {
        "colab": {
          "base_uri": "https://localhost:8080/",
          "height": 171
        },
        "id": "XKpDKLCrMM4U",
        "outputId": "45cbe922-a21d-4244-ac1d-ef8787a5484b"
      },
      "source": [
        "test_text"
      ],
      "execution_count": 41,
      "outputs": [
        {
          "output_type": "execute_result",
          "data": {
            "application/vnd.google.colaboratory.intrinsic+json": {
              "type": "string"
            },
            "text/plain": [
              "'Drug discovery and development pipelines are long, complex and depend on numerous factors. Machine learning (ML) approaches provide a set of tools that can improve discovery and decision making for well-specified questions with abundant, high-quality data. Opportunities to apply ML occur in all stages of drug discovery. Examples include target validation, identification of prognostic biomarkers and analysis of digital pathology data in clinical trials. Applications have ranged in context and methodology, with some approaches yielding accurate predictions and insights. The challenges of applying ML lie primarily with the lack of interpretability and repeatability of ML-generated results, which may limit their application. In all areas, systematic and comprehensive high-dimensional data still need to be generated. With ongoing efforts to tackle these issues, as well as increasing awareness of the factors needed to validate ML approaches, the application of ML can promote data-driven decision making and has the potential to speed up the process and reduce failure rates in drug discovery and development.'"
            ]
          },
          "metadata": {
            "tags": []
          },
          "execution_count": 41
        }
      ]
    },
    {
      "cell_type": "code",
      "metadata": {
        "colab": {
          "base_uri": "https://localhost:8080/"
        },
        "id": "H8ZFIoNcMN8C",
        "outputId": "8b5a3363-4bc2-4977-e52a-78ff57b92510"
      },
      "source": [
        "import re\n",
        "import nltk\n",
        "nltk.download('punkt')\n",
        "nltk.download('stopwords')\n",
        "nltk.download('wordnet')\n",
        "stopwords = nltk.corpus.stopwords.words('english')\n",
        "\n",
        "def cleanText(text):\n",
        "  text = text.replace(\"\\n\",\" \")\n",
        "  text = text.replace(\"\\t\",\" \")\n",
        "  text = text.lower()\n",
        "  text = re.sub(\"\\s+\",\" \", text)\n",
        "  text = re.sub(\"[^-9A-Za-z ]\", \"\" , text)\n",
        "  text = nltk.tokenize.word_tokenize(text)\n",
        "  text = [i for i in text if i not in stopwords]\n",
        "  text = [nltk.PorterStemmer().stem(word) for word in text]\n",
        "  text = [nltk.WordNetLemmatizer().lemmatize(word) for word in text]\n",
        "  return text"
      ],
      "execution_count": 59,
      "outputs": [
        {
          "output_type": "stream",
          "text": [
            "[nltk_data] Downloading package punkt to /root/nltk_data...\n",
            "[nltk_data]   Package punkt is already up-to-date!\n",
            "[nltk_data] Downloading package stopwords to /root/nltk_data...\n",
            "[nltk_data]   Package stopwords is already up-to-date!\n",
            "[nltk_data] Downloading package wordnet to /root/nltk_data...\n",
            "[nltk_data]   Unzipping corpora/wordnet.zip.\n"
          ],
          "name": "stdout"
        }
      ]
    },
    {
      "cell_type": "code",
      "metadata": {
        "colab": {
          "base_uri": "https://localhost:8080/"
        },
        "id": "9WmELs6IMY5Y",
        "outputId": "6fa2b026-67f7-4699-de45-495d96c9e340"
      },
      "source": [
        "df['clean_abstract'] = df['abstract'].apply(lambda x:cleanText(x))"
      ],
      "execution_count": 66,
      "outputs": [
        {
          "output_type": "stream",
          "text": [
            "/usr/local/lib/python3.7/dist-packages/ipykernel_launcher.py:1: SettingWithCopyWarning: \n",
            "A value is trying to be set on a copy of a slice from a DataFrame.\n",
            "Try using .loc[row_indexer,col_indexer] = value instead\n",
            "\n",
            "See the caveats in the documentation: https://pandas.pydata.org/pandas-docs/stable/user_guide/indexing.html#returning-a-view-versus-a-copy\n",
            "  \"\"\"Entry point for launching an IPython kernel.\n"
          ],
          "name": "stderr"
        }
      ]
    },
    {
      "cell_type": "code",
      "metadata": {
        "id": "5NynGTgKQ_BT"
      },
      "source": [
        "df.to_csv('drug_abstract.csv',index=False)"
      ],
      "execution_count": 68,
      "outputs": []
    },
    {
      "cell_type": "code",
      "metadata": {
        "id": "r1ZndBINMbDW"
      },
      "source": [
        "ps = nltk.PorterStemmer()\n",
        "text = [nltk.PorterStemmer().stem(word) for word in text]\n",
        "print(w)"
      ],
      "execution_count": null,
      "outputs": []
    },
    {
      "cell_type": "markdown",
      "metadata": {
        "id": "YLnQLg5FiSvC"
      },
      "source": [
        "#**Analyze Data**"
      ]
    },
    {
      "cell_type": "code",
      "metadata": {
        "colab": {
          "base_uri": "https://localhost:8080/"
        },
        "id": "FkbkT7UaqK97",
        "outputId": "ec0d6248-7b2c-433a-d2cc-801ff9104878"
      },
      "source": [
        "import pandas as pd\n",
        "import numpy as np\n",
        "\n",
        "import re\n",
        "import nltk\n",
        "nltk.download('punkt')\n",
        "nltk.download('stopwords')\n",
        "nltk.download('wordnet')\n",
        "stopwords = nltk.corpus.stopwords.words('english')\n",
        "\n",
        "\n",
        "df = pd.read_csv(\"drug_abstract.csv\")\n",
        "df['clean_abstract'] = df['clean_abstract'].apply(lambda x: eval(x))"
      ],
      "execution_count": 1,
      "outputs": [
        {
          "output_type": "stream",
          "text": [
            "[nltk_data] Downloading package punkt to /root/nltk_data...\n",
            "[nltk_data]   Package punkt is already up-to-date!\n",
            "[nltk_data] Downloading package stopwords to /root/nltk_data...\n",
            "[nltk_data]   Package stopwords is already up-to-date!\n",
            "[nltk_data] Downloading package wordnet to /root/nltk_data...\n",
            "[nltk_data]   Package wordnet is already up-to-date!\n"
          ],
          "name": "stdout"
        }
      ]
    },
    {
      "cell_type": "markdown",
      "metadata": {
        "id": "OWocLoLniceL"
      },
      "source": [
        "## Topic Modeling"
      ]
    },
    {
      "cell_type": "code",
      "metadata": {
        "id": "_2H738wRijky"
      },
      "source": [
        "from sklearn.feature_extraction.text import CountVectorizer\n",
        "from sklearn.decomposition import LatentDirichletAllocation\n",
        "\n",
        "n_features = 500\n",
        "n_components = 10\n",
        "n_top_words = 20"
      ],
      "execution_count": 15,
      "outputs": []
    },
    {
      "cell_type": "code",
      "metadata": {
        "colab": {
          "base_uri": "https://localhost:8080/"
        },
        "id": "b6ULpf2yibEQ",
        "outputId": "608a96a6-46ef-424b-fd22-c84f0c71ffc4"
      },
      "source": [
        "tf_vectorizer = CountVectorizer(max_df=0.95, min_df=2,\n",
        "                                max_features=n_features,\n",
        "                                stop_words='english')\n",
        "\n",
        "tf = tf_vectorizer.fit_transform(df['clean_abstract'].apply(lambda x:\" \".join(x)))\n",
        "feature_name = tf_vectorizer.get_feature_names()\n",
        "index_dict = dict(enumerate(feature_name))\n",
        "print(index_dict)\n",
        "# print(tf.toarray()[0])"
      ],
      "execution_count": 16,
      "outputs": [
        {
          "output_type": "stream",
          "text": [
            "{0: 'abil', 1: 'abl', 2: 'acceler', 3: 'access', 4: 'accur', 5: 'accuraci', 6: 'achiev', 7: 'acid', 8: 'act', 9: 'action', 10: 'activ', 11: 'ad', 12: 'addit', 13: 'address', 14: 'advanc', 15: 'advantag', 16: 'affect', 17: 'affin', 18: 'agent', 19: 'ai', 20: 'aid', 21: 'aim', 22: 'algorithm', 23: 'alloster', 24: 'allow', 25: 'altern', 26: 'analysi', 27: 'analyz', 28: 'anti', 29: 'appli', 30: 'applic', 31: 'approach', 32: 'approv', 33: 'architectur', 34: 'area', 35: 'art', 36: 'articl', 37: 'artifici', 38: 'ass', 39: 'assay', 40: 'assist', 41: 'associ', 42: 'atom', 43: 'attent', 44: 'auc', 45: 'autom', 46: 'avail', 47: 'averag', 48: 'background', 49: 'bas', 50: 'base', 51: 'becom', 52: 'benchmark', 53: 'best', 54: 'better', 55: 'big', 56: 'bind', 57: 'bioactiv', 58: 'biolog', 59: 'boost', 60: 'build', 61: 'built', 62: 'calcul', 63: 'cancer', 64: 'candid', 65: 'capabl', 66: 'case', 67: 'caus', 68: 'cell', 69: 'cellular', 70: 'challeng', 71: 'chang', 72: 'character', 73: 'characterist', 74: 'chemic', 75: 'cheminformat', 76: 'chemistri', 77: 'class', 78: 'classic', 79: 'classif', 80: 'classifi', 81: 'clinic', 82: 'cluster', 83: 'coeffici', 84: 'collect', 85: 'combin', 86: 'common', 87: 'commun', 88: 'compar', 89: 'comparison', 90: 'complex', 91: 'compound', 92: 'comprehens', 93: 'comput', 94: 'computer', 95: 'conform', 96: 'consid', 97: 'consist', 98: 'construct', 99: 'consum', 100: 'contain', 101: 'context', 102: 'continu', 103: 'contribut', 104: 'convent', 105: 'convolut', 106: 'correl', 107: 'cost', 108: 'coupl', 109: 'cov', 110: 'cover', 111: 'covid', 112: 'creat', 113: 'critic', 114: 'cross', 115: 'crucial', 116: 'curat', 117: 'current', 118: 'curv', 119: 'data', 120: 'databas', 121: 'dataset', 122: 'decad', 123: 'decis', 124: 'deep', 125: 'demonstr', 126: 'depend', 127: 'deriv', 128: 'describ', 129: 'descriptor', 130: 'design', 131: 'desir', 132: 'detect', 133: 'determin', 134: 'develop', 135: 'differ', 136: 'dili', 137: 'dimension', 138: 'direct', 139: 'discov', 140: 'discoveri', 141: 'discus', 142: 'diseas', 143: 'distribut', 144: 'diver', 145: 'dock', 146: 'domain', 147: 'driven', 148: 'drug', 149: 'dti', 150: 'dynam', 151: 'earli', 152: 'effect', 153: 'efficaci', 154: 'effici', 155: 'effort', 156: 'emerg', 157: 'employ', 158: 'enabl', 159: 'encod', 160: 'end', 161: 'energi', 162: 'enhanc', 163: 'ensembl', 164: 'enzym', 165: 'error', 166: 'especi', 167: 'essenti', 168: 'establish', 169: 'estim', 170: 'evalu', 171: 'exampl', 172: 'exist', 173: 'expens', 174: 'experi', 175: 'experiment', 176: 'exploit', 177: 'explor', 178: 'express', 179: 'extens', 180: 'extern', 181: 'extract', 182: 'facilit', 183: 'factor', 184: 'famili', 185: 'fast', 186: 'featur', 187: 'field', 188: 'final', 189: 'fingerprint', 190: 'focu', 191: 'focus', 192: 'fold', 193: 'follow', 194: 'forest', 195: 'form', 196: 'fragment', 197: 'framework', 198: 'function', 199: 'furthermor', 200: 'futur', 201: 'gene', 202: 'gener', 203: 'genom', 204: 'given', 205: 'global', 206: 'good', 207: 'gpcr', 208: 'graph', 209: 'great', 210: 'group', 211: 'guid', 212: 'health', 213: 'help', 214: 'herg', 215: 'heterogen', 216: 'high', 217: 'higher', 218: 'highli', 219: 'highlight', 220: 'hit', 221: 'howev', 222: 'human', 223: 'identif', 224: 'identifi', 225: 'imag', 226: 'impact', 227: 'implement', 228: 'import', 229: 'improv', 230: 'includ', 231: 'increas', 232: 'indic', 233: 'induc', 234: 'industri', 235: 'infect', 236: 'inform', 237: 'inhibit', 238: 'inhibitor', 239: 'input', 240: 'insight', 241: 'integr', 242: 'intellig', 243: 'interact', 244: 'interpret', 245: 'introduc', 246: 'investig', 247: 'involv', 248: 'issu', 249: 'key', 250: 'kina', 251: 'knowledg', 252: 'known', 253: 'larg', 254: 'large', 255: 'lead', 256: 'learn', 257: 'learning', 258: 'level', 259: 'librari', 260: 'ligand', 261: 'lik', 262: 'like', 263: 'limit', 264: 'line', 265: 'literatur', 266: 'low', 267: 'machin', 268: 'machine', 269: 'main', 270: 'major', 271: 'make', 272: 'mani', 273: 'map', 274: 'materi', 275: 'md', 276: 'mean', 277: 'measur', 278: 'mechan', 279: 'medic', 280: 'medicin', 281: 'metabol', 282: 'method', 283: 'methodolog', 284: 'metric', 285: 'million', 286: 'ml', 287: 'mode', 288: 'model', 289: 'modern', 290: 'modul', 291: 'molecul', 292: 'molecular', 293: 'moreov', 294: 'multi', 295: 'multipl', 296: 'mutat', 297: 'natur', 298: 'need', 299: 'network', 300: 'neural', 301: 'new', 302: 'non', 303: 'novel', 304: 'novo', 305: 'number', 306: 'observ', 307: 'obtain', 308: 'offer', 309: 'open', 310: 'oper', 311: 'opportun', 312: 'optim', 313: 'order', 314: 'organ', 315: 'outcom', 316: 'outperform', 317: 'overal', 318: 'overview', 319: 'pair', 320: 'paper', 321: 'paramet', 322: 'particular', 323: 'past', 324: 'pathway', 325: 'patient', 326: 'pattern', 327: 'peptid', 328: 'perform', 329: 'perspect', 330: 'pharmaceut', 331: 'pharmacokinet', 332: 'pharmacolog', 333: 'phenotyp', 334: 'physicochem', 335: 'pipelin', 336: 'platform', 337: 'play', 338: 'point', 339: 'pose', 340: 'posit', 341: 'possibl', 342: 'potent', 343: 'potenti', 344: 'power', 345: 'ppi', 346: 'practic', 347: 'precis', 348: 'predict', 349: 'predictor', 350: 'present', 351: 'previous', 352: 'problem', 353: 'process', 354: 'produc', 355: 'product', 356: 'profil', 357: 'program', 358: 'progress', 359: 'project', 360: 'promis', 361: 'promiscu', 362: 'properti', 363: 'propos', 364: 'protein', 365: 'protocol', 366: 'provid', 367: 'public', 368: 'publish', 369: 'qsar', 370: 'quantit', 371: 'random', 372: 'rang', 373: 'rank', 374: 'rapid', 375: 'rate', 376: 'ration', 377: 'reaction', 378: 'recent', 379: 'receptor', 380: 'recognit', 381: 'reduc', 382: 'regress', 383: 'rel', 384: 'relat', 385: 'relationship', 386: 'relev', 387: 'reli', 388: 'reliabl', 389: 'remain', 390: 'report', 391: 'reposit', 392: 'repres', 393: 'represent', 394: 'repurpos', 395: 'requir', 396: 'research', 397: 'residu', 398: 'resist', 399: 'resourc', 400: 'respect', 401: 'respons', 402: 'result', 403: 'reveal', 404: 'review', 405: 'risk', 406: 'robust', 407: 'role', 408: 'sampl', 409: 'sars', 410: 'scaffold', 411: 'scal', 412: 'scienc', 413: 'scientif', 414: 'score', 415: 'screen', 416: 'search', 417: 'select', 418: 'sensit', 419: 'sequenc', 420: 'seri', 421: 'set', 422: 'sever', 423: 'sf', 424: 'shown', 425: 'signific', 426: 'significantli', 427: 'silico', 428: 'similar', 429: 'simul', 430: 'singl', 431: 'site', 432: 'small', 433: 'softwar', 434: 'solut', 435: 'sourc', 436: 'space', 437: 'specif', 438: 'stabil', 439: 'stage', 440: 'standard', 441: 'state', 442: 'statist', 443: 'step', 444: 'strategi', 445: 'structur', 446: 'structure', 447: 'studi', 448: 'success', 449: 'suggest', 450: 'supervis', 451: 'support', 452: 'svm', 453: 'synthesi', 454: 'synthet', 455: 'systemat', 456: 'target', 457: 'task', 458: 'techniqu', 459: 'technolog', 460: 'term', 461: 'test', 462: 'therapeut', 463: 'therapi', 464: 'therefor', 465: 'throughput', 466: 'thu', 467: 'time', 468: 'tool', 469: 'toxic', 470: 'tradit', 471: 'train', 472: 'transform', 473: 'translat', 474: 'treatment', 475: 'tree', 476: 'trial', 477: 'type', 478: 'typic', 479: 'understand', 480: 'use', 481: 'user', 482: 'util', 483: 'valid', 484: 'valu', 485: 'valuabl', 486: 'varieti', 487: 'variou', 488: 'vector', 489: 'virtual', 490: 'viru', 491: 'visual', 492: 'vitro', 493: 'vivo', 494: 'way', 495: 'web', 496: 'wide', 497: 'work', 498: 'workflow', 499: 'year'}\n"
          ],
          "name": "stdout"
        }
      ]
    },
    {
      "cell_type": "code",
      "metadata": {
        "colab": {
          "base_uri": "https://localhost:8080/"
        },
        "id": "3crteLCQlfSO",
        "outputId": "c80ee75e-7e45-4319-aaa9-f0ab75ba3e39"
      },
      "source": [
        "lda = LatentDirichletAllocation(n_components=n_components, max_iter=5,\n",
        "                                learning_method='online',\n",
        "                                learning_offset=50.,\n",
        "                                random_state=0)\n",
        "lda.fit(tf)"
      ],
      "execution_count": 17,
      "outputs": [
        {
          "output_type": "execute_result",
          "data": {
            "text/plain": [
              "LatentDirichletAllocation(batch_size=128, doc_topic_prior=None,\n",
              "                          evaluate_every=-1, learning_decay=0.7,\n",
              "                          learning_method='online', learning_offset=50.0,\n",
              "                          max_doc_update_iter=100, max_iter=5,\n",
              "                          mean_change_tol=0.001, n_components=10, n_jobs=None,\n",
              "                          perp_tol=0.1, random_state=0, topic_word_prior=None,\n",
              "                          total_samples=1000000.0, verbose=0)"
            ]
          },
          "metadata": {
            "tags": []
          },
          "execution_count": 17
        }
      ]
    },
    {
      "cell_type": "code",
      "metadata": {
        "colab": {
          "base_uri": "https://localhost:8080/"
        },
        "id": "9GOTiRgUliXD",
        "outputId": "ef84bbc6-a0fe-47f9-b444-542dbe14df78"
      },
      "source": [
        "def print_top_words(model, feature_names, n_top_words):\n",
        "    for topic_idx, topic in enumerate(model.components_):\n",
        "        message = \"Topic #%d: \" % topic_idx\n",
        "        message += \" \".join([feature_names[i]\n",
        "                             for i in topic.argsort()[:-n_top_words - 1:-1]])\n",
        "        print(message)\n",
        "    print()\n",
        "tf_feature_names = tf_vectorizer.get_feature_names()\n",
        "print_top_words(lda, tf_feature_names, n_top_words)"
      ],
      "execution_count": 18,
      "outputs": [
        {
          "output_type": "stream",
          "text": [
            "Topic #0: deep learn represent molecular properti bioactiv decad provid cheminformat research descriptor classifi structure wide demonstr advanc review predict small driven\n",
            "Topic #1: simul mutat dynam md molecular fragment dock use comput bind drug ligand sampl site energi method recent protein enhanc discoveri\n",
            "Topic #2: learn drug fragment develop use machin librari approach set comput data target new model discoveri deep caus compound chemic avail\n",
            "Topic #3: inhibitor sf bind alloster kina site modul score design pose dock potent protein receptor ligand activ inhibit structur complex select\n",
            "Topic #4: learn ai drug deep gener imag discoveri design machin data intellig artifici develop applic network field molecul technolog neural use\n",
            "Topic #5: predict model drug use learn protein method compound machin data target discoveri set perform structur molecul bas molecular develop chemic\n",
            "Topic #6: librari virtual screen user chemic deep diver scaffold gener learn structur discoveri softwar novo focus drug public biolog step web\n",
            "Topic #7: gpcr drug receptor cheminformat compound discoveri famili pattern anti ligand properti coupl program lik develop pharmacokinet target comput bas lead\n",
            "Topic #8: compound perform method drug data classif screen activ machin discoveri learn studi use appli model network assay effect score set\n",
            "Topic #9: drug discoveri data develop approach use diseas target learn comput method research new machin biolog clinic potenti provid identifi studi\n",
            "\n"
          ],
          "name": "stdout"
        }
      ]
    },
    {
      "cell_type": "code",
      "metadata": {
        "id": "NUJ5388Vo2we"
      },
      "source": [
        ""
      ],
      "execution_count": null,
      "outputs": []
    }
  ]
}