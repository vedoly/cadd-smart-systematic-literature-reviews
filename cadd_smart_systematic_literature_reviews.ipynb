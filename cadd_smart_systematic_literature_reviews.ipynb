{
  "nbformat": 4,
  "nbformat_minor": 0,
  "metadata": {
    "colab": {
      "name": "cadd-smart-systematic-literature-reviews.ipynb",
      "provenance": [],
      "toc_visible": true,
      "authorship_tag": "ABX9TyP+UcYMZ5LSj68979VriY6+",
      "include_colab_link": true
    },
    "kernelspec": {
      "name": "python3",
      "display_name": "Python 3"
    },
    "language_info": {
      "name": "python"
    }
  },
  "cells": [
    {
      "cell_type": "markdown",
      "metadata": {
        "id": "view-in-github",
        "colab_type": "text"
      },
      "source": [
        "<a href=\"https://colab.research.google.com/github/vedoly/cadd-smart-systematic-literature-reviews/blob/main/cadd_smart_systematic_literature_reviews.ipynb\" target=\"_parent\"><img src=\"https://colab.research.google.com/assets/colab-badge.svg\" alt=\"Open In Colab\"/></a>"
      ]
    },
    {
      "cell_type": "markdown",
      "metadata": {
        "id": "_SN0nCHi-7fq"
      },
      "source": [
        "# **Get Data**"
      ]
    },
    {
      "cell_type": "markdown",
      "metadata": {
        "id": "I_E6ATPYAka8"
      },
      "source": [
        "##Download Data"
      ]
    },
    {
      "cell_type": "code",
      "metadata": {
        "colab": {
          "base_uri": "https://localhost:8080/"
        },
        "id": "lxC4t9Ul7p5E",
        "outputId": "1501be1b-4146-4332-9fc2-ffb5b0192175"
      },
      "source": [
        "!gdown --id 15CyLhkOFnHIQhqmrjORRjQIgGdEelYHH"
      ],
      "execution_count": null,
      "outputs": [
        {
          "output_type": "stream",
          "text": [
            "Downloading...\n",
            "From: https://drive.google.com/uc?id=15CyLhkOFnHIQhqmrjORRjQIgGdEelYHH\n",
            "To: /content/csv-drugdiscov-set.csv\n",
            "\r  0% 0.00/349k [00:00<?, ?B/s]\r100% 349k/349k [00:00<00:00, 3.02MB/s]\n"
          ],
          "name": "stdout"
        }
      ]
    },
    {
      "cell_type": "code",
      "metadata": {
        "id": "oU7o2f2T-6Ux"
      },
      "source": [
        "import pandas as pd\n",
        "df = pd.read_csv('csv-drugdiscov-set.csv')"
      ],
      "execution_count": null,
      "outputs": []
    },
    {
      "cell_type": "code",
      "metadata": {
        "colab": {
          "base_uri": "https://localhost:8080/",
          "height": 185
        },
        "id": "40ZOJYzw_jId",
        "outputId": "98e0b95f-c6d8-472c-b709-04530e4c3a92"
      },
      "source": [
        "df.head(1)"
      ],
      "execution_count": null,
      "outputs": [
        {
          "output_type": "execute_result",
          "data": {
            "text/html": [
              "<div>\n",
              "<style scoped>\n",
              "    .dataframe tbody tr th:only-of-type {\n",
              "        vertical-align: middle;\n",
              "    }\n",
              "\n",
              "    .dataframe tbody tr th {\n",
              "        vertical-align: top;\n",
              "    }\n",
              "\n",
              "    .dataframe thead th {\n",
              "        text-align: right;\n",
              "    }\n",
              "</style>\n",
              "<table border=\"1\" class=\"dataframe\">\n",
              "  <thead>\n",
              "    <tr style=\"text-align: right;\">\n",
              "      <th></th>\n",
              "      <th>PMID</th>\n",
              "      <th>Title</th>\n",
              "      <th>Authors</th>\n",
              "      <th>Citation</th>\n",
              "      <th>First Author</th>\n",
              "      <th>Journal/Book</th>\n",
              "      <th>Publication Year</th>\n",
              "      <th>Create Date</th>\n",
              "      <th>PMCID</th>\n",
              "      <th>NIHMS ID</th>\n",
              "      <th>DOI</th>\n",
              "    </tr>\n",
              "  </thead>\n",
              "  <tbody>\n",
              "    <tr>\n",
              "      <th>0</th>\n",
              "      <td>30976107</td>\n",
              "      <td>Applications of machine learning in drug disco...</td>\n",
              "      <td>Vamathevan J, Clark D, Czodrowski P, Dunham I,...</td>\n",
              "      <td>Nat Rev Drug Discov. 2019 Jun;18(6):463-477. d...</td>\n",
              "      <td>Vamathevan J</td>\n",
              "      <td>Nat Rev Drug Discov</td>\n",
              "      <td>2019</td>\n",
              "      <td>2019/04/13</td>\n",
              "      <td>PMC6552674</td>\n",
              "      <td>NIHMS1029624</td>\n",
              "      <td>10.1038/s41573-019-0024-5</td>\n",
              "    </tr>\n",
              "  </tbody>\n",
              "</table>\n",
              "</div>"
            ],
            "text/plain": [
              "       PMID  ...                        DOI\n",
              "0  30976107  ...  10.1038/s41573-019-0024-5\n",
              "\n",
              "[1 rows x 11 columns]"
            ]
          },
          "metadata": {
            "tags": []
          },
          "execution_count": 3
        }
      ]
    },
    {
      "cell_type": "code",
      "metadata": {
        "id": "Jg7jB5f__kFz"
      },
      "source": [
        "df = df[['PMID','Title','Journal/Book','Create Date']]"
      ],
      "execution_count": null,
      "outputs": []
    },
    {
      "cell_type": "code",
      "metadata": {
        "colab": {
          "base_uri": "https://localhost:8080/"
        },
        "id": "JnvXMjhPA7-m",
        "outputId": "e43cc57f-9567-4b75-d20f-4bd47584e3d7"
      },
      "source": [
        "len(df)"
      ],
      "execution_count": null,
      "outputs": [
        {
          "output_type": "execute_result",
          "data": {
            "text/plain": [
              "1015"
            ]
          },
          "metadata": {
            "tags": []
          },
          "execution_count": 5
        }
      ]
    },
    {
      "cell_type": "markdown",
      "metadata": {
        "id": "y6W1IuE9AtrH"
      },
      "source": [
        "## Get Abstract from PubMed"
      ]
    },
    {
      "cell_type": "code",
      "metadata": {
        "id": "FBGlH5Ui_-Yi"
      },
      "source": [
        "import requests\n",
        "import numpy as np\n",
        "\n",
        "def getAbstract(pmid):\n",
        "  try:\n",
        "    page = requests.get(\"https://pubmed.ncbi.nlm.nih.gov/\"+str(pmid) )\n",
        "    from bs4 import BeautifulSoup\n",
        "    soup = BeautifulSoup(page.content, 'html.parser')\n",
        "    return soup.find_all(class_='abstract-content selected')[0].p.text.strip()\n",
        "  except:\n",
        "    return np.nan"
      ],
      "execution_count": null,
      "outputs": []
    },
    {
      "cell_type": "code",
      "metadata": {
        "id": "8Kfgn7zBBXah"
      },
      "source": [
        "# around 10 min\n",
        "df['abstract'] = df['PMID'].apply(lambda x: getAbstract(x))\n",
        "df = df.dropna()"
      ],
      "execution_count": null,
      "outputs": []
    },
    {
      "cell_type": "code",
      "metadata": {
        "colab": {
          "base_uri": "https://localhost:8080/",
          "height": 546
        },
        "id": "j9VfgJcHBj-B",
        "outputId": "221f28e7-7376-4d86-97b4-5230f6d64f0c"
      },
      "source": [
        "df.head(10)"
      ],
      "execution_count": null,
      "outputs": [
        {
          "output_type": "execute_result",
          "data": {
            "text/html": [
              "<div>\n",
              "<style scoped>\n",
              "    .dataframe tbody tr th:only-of-type {\n",
              "        vertical-align: middle;\n",
              "    }\n",
              "\n",
              "    .dataframe tbody tr th {\n",
              "        vertical-align: top;\n",
              "    }\n",
              "\n",
              "    .dataframe thead th {\n",
              "        text-align: right;\n",
              "    }\n",
              "</style>\n",
              "<table border=\"1\" class=\"dataframe\">\n",
              "  <thead>\n",
              "    <tr style=\"text-align: right;\">\n",
              "      <th></th>\n",
              "      <th>PMID</th>\n",
              "      <th>Title</th>\n",
              "      <th>Journal/Book</th>\n",
              "      <th>Create Date</th>\n",
              "      <th>abstract</th>\n",
              "    </tr>\n",
              "  </thead>\n",
              "  <tbody>\n",
              "    <tr>\n",
              "      <th>0</th>\n",
              "      <td>30976107</td>\n",
              "      <td>Applications of machine learning in drug disco...</td>\n",
              "      <td>Nat Rev Drug Discov</td>\n",
              "      <td>2019/04/13</td>\n",
              "      <td>Drug discovery and development pipelines are l...</td>\n",
              "    </tr>\n",
              "    <tr>\n",
              "      <th>1</th>\n",
              "      <td>29750902</td>\n",
              "      <td>Machine learning in chemoinformatics and drug ...</td>\n",
              "      <td>Drug Discov Today</td>\n",
              "      <td>2018/05/12</td>\n",
              "      <td>Chemoinformatics is an established discipline ...</td>\n",
              "    </tr>\n",
              "    <tr>\n",
              "      <th>2</th>\n",
              "      <td>29887378</td>\n",
              "      <td>Next-Generation Machine Learning for Biologica...</td>\n",
              "      <td>Cell</td>\n",
              "      <td>2018/06/12</td>\n",
              "      <td>Machine learning, a collection of data-analyti...</td>\n",
              "    </tr>\n",
              "    <tr>\n",
              "      <th>3</th>\n",
              "      <td>31000803</td>\n",
              "      <td>Exploiting machine learning for end-to-end dru...</td>\n",
              "      <td>Nat Mater</td>\n",
              "      <td>2019/04/20</td>\n",
              "      <td>A variety of machine learning methods such as ...</td>\n",
              "    </tr>\n",
              "    <tr>\n",
              "      <th>4</th>\n",
              "      <td>29879881</td>\n",
              "      <td>Machine Learning-based Virtual Screening and I...</td>\n",
              "      <td>Curr Pharm Des</td>\n",
              "      <td>2018/06/09</td>\n",
              "      <td>Background:\\n        \\n      \\n      Virtual S...</td>\n",
              "    </tr>\n",
              "    <tr>\n",
              "      <th>5</th>\n",
              "      <td>30084866</td>\n",
              "      <td>Recent applications of deep learning and machi...</td>\n",
              "      <td>Brief Bioinform</td>\n",
              "      <td>2018/08/08</td>\n",
              "      <td>The identification of interactions between dru...</td>\n",
              "    </tr>\n",
              "    <tr>\n",
              "      <th>6</th>\n",
              "      <td>31905263</td>\n",
              "      <td>Machine Learning in Drug Discovery and Develop...</td>\n",
              "      <td>CPT Pharmacometrics Syst Pharmacol</td>\n",
              "      <td>2020/01/07</td>\n",
              "      <td>Artificial intelligence, in particular machine...</td>\n",
              "    </tr>\n",
              "    <tr>\n",
              "      <th>7</th>\n",
              "      <td>29603063</td>\n",
              "      <td>Deep Learning for Drug Design: an Artificial I...</td>\n",
              "      <td>AAPS J</td>\n",
              "      <td>2018/04/01</td>\n",
              "      <td>Over the last decade, deep learning (DL) metho...</td>\n",
              "    </tr>\n",
              "    <tr>\n",
              "      <th>8</th>\n",
              "      <td>31294972</td>\n",
              "      <td>Concepts of Artificial Intelligence for Comput...</td>\n",
              "      <td>Chem Rev</td>\n",
              "      <td>2019/07/12</td>\n",
              "      <td>Artificial intelligence (AI), and, in particul...</td>\n",
              "    </tr>\n",
              "    <tr>\n",
              "      <th>9</th>\n",
              "      <td>31174387</td>\n",
              "      <td>A Structure-Based Drug Discovery Paradigm</td>\n",
              "      <td>Int J Mol Sci</td>\n",
              "      <td>2019/06/09</td>\n",
              "      <td>Structure-based drug design is becoming an ess...</td>\n",
              "    </tr>\n",
              "  </tbody>\n",
              "</table>\n",
              "</div>"
            ],
            "text/plain": [
              "       PMID  ...                                           abstract\n",
              "0  30976107  ...  Drug discovery and development pipelines are l...\n",
              "1  29750902  ...  Chemoinformatics is an established discipline ...\n",
              "2  29887378  ...  Machine learning, a collection of data-analyti...\n",
              "3  31000803  ...  A variety of machine learning methods such as ...\n",
              "4  29879881  ...  Background:\\n        \\n      \\n      Virtual S...\n",
              "5  30084866  ...  The identification of interactions between dru...\n",
              "6  31905263  ...  Artificial intelligence, in particular machine...\n",
              "7  29603063  ...  Over the last decade, deep learning (DL) metho...\n",
              "8  31294972  ...  Artificial intelligence (AI), and, in particul...\n",
              "9  31174387  ...  Structure-based drug design is becoming an ess...\n",
              "\n",
              "[10 rows x 5 columns]"
            ]
          },
          "metadata": {
            "tags": []
          },
          "execution_count": 26
        }
      ]
    },
    {
      "cell_type": "markdown",
      "metadata": {
        "id": "4y-gS0GSLV5d"
      },
      "source": [
        "# **Preprocessing Data**"
      ]
    },
    {
      "cell_type": "markdown",
      "metadata": {
        "id": "oxlSztB1L0ng"
      },
      "source": [
        "## Cleaning Abstract Text"
      ]
    },
    {
      "cell_type": "code",
      "metadata": {
        "id": "2Sb3lN56LZzj"
      },
      "source": [
        "test_text = df['abstract'].iloc[0]"
      ],
      "execution_count": null,
      "outputs": []
    },
    {
      "cell_type": "code",
      "metadata": {
        "colab": {
          "base_uri": "https://localhost:8080/",
          "height": 171
        },
        "id": "XKpDKLCrMM4U",
        "outputId": "45cbe922-a21d-4244-ac1d-ef8787a5484b"
      },
      "source": [
        "test_text"
      ],
      "execution_count": null,
      "outputs": [
        {
          "output_type": "execute_result",
          "data": {
            "application/vnd.google.colaboratory.intrinsic+json": {
              "type": "string"
            },
            "text/plain": [
              "'Drug discovery and development pipelines are long, complex and depend on numerous factors. Machine learning (ML) approaches provide a set of tools that can improve discovery and decision making for well-specified questions with abundant, high-quality data. Opportunities to apply ML occur in all stages of drug discovery. Examples include target validation, identification of prognostic biomarkers and analysis of digital pathology data in clinical trials. Applications have ranged in context and methodology, with some approaches yielding accurate predictions and insights. The challenges of applying ML lie primarily with the lack of interpretability and repeatability of ML-generated results, which may limit their application. In all areas, systematic and comprehensive high-dimensional data still need to be generated. With ongoing efforts to tackle these issues, as well as increasing awareness of the factors needed to validate ML approaches, the application of ML can promote data-driven decision making and has the potential to speed up the process and reduce failure rates in drug discovery and development.'"
            ]
          },
          "metadata": {
            "tags": []
          },
          "execution_count": 41
        }
      ]
    },
    {
      "cell_type": "code",
      "metadata": {
        "colab": {
          "base_uri": "https://localhost:8080/"
        },
        "id": "H8ZFIoNcMN8C",
        "outputId": "8b5a3363-4bc2-4977-e52a-78ff57b92510"
      },
      "source": [
        "import re\n",
        "import nltk\n",
        "nltk.download('punkt')\n",
        "nltk.download('stopwords')\n",
        "nltk.download('wordnet')\n",
        "stopwords = nltk.corpus.stopwords.words('english')\n",
        "\n",
        "def cleanText(text):\n",
        "  text = text.replace(\"\\n\",\" \")\n",
        "  text = text.replace(\"\\t\",\" \")\n",
        "  text = text.lower()\n",
        "  text = re.sub(\"\\s+\",\" \", text)\n",
        "  text = re.sub(\"[^-9A-Za-z ]\", \"\" , text)\n",
        "  text = nltk.tokenize.word_tokenize(text)\n",
        "  text = [i for i in text if i not in stopwords]\n",
        "  text = [nltk.PorterStemmer().stem(word) for word in text]\n",
        "  text = [nltk.WordNetLemmatizer().lemmatize(word) for word in text]\n",
        "  return text"
      ],
      "execution_count": null,
      "outputs": [
        {
          "output_type": "stream",
          "text": [
            "[nltk_data] Downloading package punkt to /root/nltk_data...\n",
            "[nltk_data]   Package punkt is already up-to-date!\n",
            "[nltk_data] Downloading package stopwords to /root/nltk_data...\n",
            "[nltk_data]   Package stopwords is already up-to-date!\n",
            "[nltk_data] Downloading package wordnet to /root/nltk_data...\n",
            "[nltk_data]   Unzipping corpora/wordnet.zip.\n"
          ],
          "name": "stdout"
        }
      ]
    },
    {
      "cell_type": "code",
      "metadata": {
        "colab": {
          "base_uri": "https://localhost:8080/"
        },
        "id": "9WmELs6IMY5Y",
        "outputId": "6fa2b026-67f7-4699-de45-495d96c9e340"
      },
      "source": [
        "df['clean_abstract'] = df['abstract'].apply(lambda x:cleanText(x))"
      ],
      "execution_count": null,
      "outputs": [
        {
          "output_type": "stream",
          "text": [
            "/usr/local/lib/python3.7/dist-packages/ipykernel_launcher.py:1: SettingWithCopyWarning: \n",
            "A value is trying to be set on a copy of a slice from a DataFrame.\n",
            "Try using .loc[row_indexer,col_indexer] = value instead\n",
            "\n",
            "See the caveats in the documentation: https://pandas.pydata.org/pandas-docs/stable/user_guide/indexing.html#returning-a-view-versus-a-copy\n",
            "  \"\"\"Entry point for launching an IPython kernel.\n"
          ],
          "name": "stderr"
        }
      ]
    },
    {
      "cell_type": "code",
      "metadata": {
        "id": "5NynGTgKQ_BT"
      },
      "source": [
        "df.to_csv('drug_abstract.csv',index=False)"
      ],
      "execution_count": null,
      "outputs": []
    },
    {
      "cell_type": "code",
      "metadata": {
        "id": "r1ZndBINMbDW"
      },
      "source": [
        "ps = nltk.PorterStemmer()\n",
        "text = [nltk.PorterStemmer().stem(word) for word in text]\n",
        "print(w)"
      ],
      "execution_count": null,
      "outputs": []
    },
    {
      "cell_type": "markdown",
      "metadata": {
        "id": "YLnQLg5FiSvC"
      },
      "source": [
        "#**Analyze Data**"
      ]
    },
    {
      "cell_type": "code",
      "metadata": {
        "id": "4yigyLmph2Nl"
      },
      "source": [
        "!pip install pyLDAvis==2.1.2 -q"
      ],
      "execution_count": 1,
      "outputs": []
    },
    {
      "cell_type": "code",
      "metadata": {
        "colab": {
          "base_uri": "https://localhost:8080/"
        },
        "id": "FkbkT7UaqK97",
        "outputId": "8a5b0704-df9f-41e6-fc34-51973fca7d1d"
      },
      "source": [
        "import pandas as pd\n",
        "import numpy as np\n",
        "\n",
        "import re\n",
        "import nltk\n",
        "nltk.download('punkt')\n",
        "nltk.download('stopwords')\n",
        "nltk.download('wordnet')\n",
        "stopwords = nltk.corpus.stopwords.words('english')\n",
        "\n",
        "\n",
        "df = pd.read_csv(\"drug_abstract.csv\")\n",
        "df['clean_abstract'] = df['clean_abstract'].apply(lambda x: eval(x))"
      ],
      "execution_count": 2,
      "outputs": [
        {
          "output_type": "stream",
          "text": [
            "[nltk_data] Downloading package punkt to /root/nltk_data...\n",
            "[nltk_data]   Package punkt is already up-to-date!\n",
            "[nltk_data] Downloading package stopwords to /root/nltk_data...\n",
            "[nltk_data]   Package stopwords is already up-to-date!\n",
            "[nltk_data] Downloading package wordnet to /root/nltk_data...\n",
            "[nltk_data]   Package wordnet is already up-to-date!\n"
          ],
          "name": "stdout"
        }
      ]
    },
    {
      "cell_type": "markdown",
      "metadata": {
        "id": "OWocLoLniceL"
      },
      "source": [
        "## Topic Modeling"
      ]
    },
    {
      "cell_type": "code",
      "metadata": {
        "id": "_2H738wRijky"
      },
      "source": [
        "from sklearn.feature_extraction.text import CountVectorizer\n",
        "from sklearn.decomposition import LatentDirichletAllocation\n",
        "\n",
        "n_features = 500\n",
        "n_components = 4\n",
        "n_top_words = 20"
      ],
      "execution_count": 18,
      "outputs": []
    },
    {
      "cell_type": "code",
      "metadata": {
        "colab": {
          "base_uri": "https://localhost:8080/"
        },
        "id": "b6ULpf2yibEQ",
        "outputId": "1af3dc37-74ec-40ef-8f70-04735d4b63c3"
      },
      "source": [
        "tf_vectorizer = CountVectorizer(max_df=0.95, min_df=2,\n",
        "                                max_features=n_features,\n",
        "                                stop_words='english')\n",
        "\n",
        "tf = tf_vectorizer.fit_transform(df['clean_abstract'].apply(lambda x:\" \".join(x)))\n",
        "feature_name = tf_vectorizer.get_feature_names()\n",
        "index_dict = dict(enumerate(feature_name))\n",
        "print(index_dict)\n",
        "# print(tf.toarray()[0])"
      ],
      "execution_count": 19,
      "outputs": [
        {
          "output_type": "stream",
          "text": [
            "{0: 'abil', 1: 'abl', 2: 'acceler', 3: 'access', 4: 'accur', 5: 'accuraci', 6: 'achiev', 7: 'acid', 8: 'act', 9: 'action', 10: 'activ', 11: 'ad', 12: 'addit', 13: 'address', 14: 'advanc', 15: 'advantag', 16: 'affect', 17: 'affin', 18: 'agent', 19: 'ai', 20: 'aid', 21: 'aim', 22: 'algorithm', 23: 'alloster', 24: 'allow', 25: 'altern', 26: 'analysi', 27: 'analyz', 28: 'anti', 29: 'appli', 30: 'applic', 31: 'approach', 32: 'approv', 33: 'architectur', 34: 'area', 35: 'art', 36: 'articl', 37: 'artifici', 38: 'ass', 39: 'assay', 40: 'assist', 41: 'associ', 42: 'atom', 43: 'attent', 44: 'auc', 45: 'autom', 46: 'avail', 47: 'averag', 48: 'background', 49: 'bas', 50: 'base', 51: 'becom', 52: 'benchmark', 53: 'best', 54: 'better', 55: 'big', 56: 'bind', 57: 'bioactiv', 58: 'biolog', 59: 'boost', 60: 'build', 61: 'built', 62: 'calcul', 63: 'cancer', 64: 'candid', 65: 'capabl', 66: 'case', 67: 'caus', 68: 'cell', 69: 'cellular', 70: 'challeng', 71: 'chang', 72: 'character', 73: 'characterist', 74: 'chemic', 75: 'cheminformat', 76: 'chemistri', 77: 'class', 78: 'classic', 79: 'classif', 80: 'classifi', 81: 'clinic', 82: 'cluster', 83: 'coeffici', 84: 'collect', 85: 'combin', 86: 'common', 87: 'commun', 88: 'compar', 89: 'comparison', 90: 'complex', 91: 'compound', 92: 'comprehens', 93: 'comput', 94: 'computer', 95: 'conform', 96: 'consid', 97: 'consist', 98: 'construct', 99: 'consum', 100: 'contain', 101: 'context', 102: 'continu', 103: 'contribut', 104: 'convent', 105: 'convolut', 106: 'correl', 107: 'cost', 108: 'coupl', 109: 'cov', 110: 'cover', 111: 'covid', 112: 'creat', 113: 'critic', 114: 'cross', 115: 'crucial', 116: 'curat', 117: 'current', 118: 'curv', 119: 'data', 120: 'databas', 121: 'dataset', 122: 'decad', 123: 'decis', 124: 'deep', 125: 'demonstr', 126: 'depend', 127: 'deriv', 128: 'describ', 129: 'descriptor', 130: 'design', 131: 'desir', 132: 'detect', 133: 'determin', 134: 'develop', 135: 'differ', 136: 'dili', 137: 'dimension', 138: 'direct', 139: 'discov', 140: 'discoveri', 141: 'discus', 142: 'diseas', 143: 'distribut', 144: 'diver', 145: 'dock', 146: 'domain', 147: 'driven', 148: 'drug', 149: 'dti', 150: 'dynam', 151: 'earli', 152: 'effect', 153: 'efficaci', 154: 'effici', 155: 'effort', 156: 'emerg', 157: 'employ', 158: 'enabl', 159: 'encod', 160: 'end', 161: 'energi', 162: 'enhanc', 163: 'ensembl', 164: 'enzym', 165: 'error', 166: 'especi', 167: 'essenti', 168: 'establish', 169: 'estim', 170: 'evalu', 171: 'exampl', 172: 'exist', 173: 'expens', 174: 'experi', 175: 'experiment', 176: 'exploit', 177: 'explor', 178: 'express', 179: 'extens', 180: 'extern', 181: 'extract', 182: 'facilit', 183: 'factor', 184: 'famili', 185: 'fast', 186: 'featur', 187: 'field', 188: 'final', 189: 'fingerprint', 190: 'focu', 191: 'focus', 192: 'fold', 193: 'follow', 194: 'forest', 195: 'form', 196: 'fragment', 197: 'framework', 198: 'function', 199: 'furthermor', 200: 'futur', 201: 'gene', 202: 'gener', 203: 'genom', 204: 'given', 205: 'global', 206: 'good', 207: 'gpcr', 208: 'graph', 209: 'great', 210: 'group', 211: 'guid', 212: 'health', 213: 'help', 214: 'herg', 215: 'heterogen', 216: 'high', 217: 'higher', 218: 'highli', 219: 'highlight', 220: 'hit', 221: 'howev', 222: 'human', 223: 'identif', 224: 'identifi', 225: 'imag', 226: 'impact', 227: 'implement', 228: 'import', 229: 'improv', 230: 'includ', 231: 'increas', 232: 'indic', 233: 'induc', 234: 'industri', 235: 'infect', 236: 'inform', 237: 'inhibit', 238: 'inhibitor', 239: 'input', 240: 'insight', 241: 'integr', 242: 'intellig', 243: 'interact', 244: 'interpret', 245: 'introduc', 246: 'investig', 247: 'involv', 248: 'issu', 249: 'key', 250: 'kina', 251: 'knowledg', 252: 'known', 253: 'larg', 254: 'large', 255: 'lead', 256: 'learn', 257: 'learning', 258: 'level', 259: 'librari', 260: 'ligand', 261: 'lik', 262: 'like', 263: 'limit', 264: 'line', 265: 'literatur', 266: 'low', 267: 'machin', 268: 'machine', 269: 'main', 270: 'major', 271: 'make', 272: 'mani', 273: 'map', 274: 'materi', 275: 'md', 276: 'mean', 277: 'measur', 278: 'mechan', 279: 'medic', 280: 'medicin', 281: 'metabol', 282: 'method', 283: 'methodolog', 284: 'metric', 285: 'million', 286: 'ml', 287: 'mode', 288: 'model', 289: 'modern', 290: 'modul', 291: 'molecul', 292: 'molecular', 293: 'moreov', 294: 'multi', 295: 'multipl', 296: 'mutat', 297: 'natur', 298: 'need', 299: 'network', 300: 'neural', 301: 'new', 302: 'non', 303: 'novel', 304: 'novo', 305: 'number', 306: 'observ', 307: 'obtain', 308: 'offer', 309: 'open', 310: 'oper', 311: 'opportun', 312: 'optim', 313: 'order', 314: 'organ', 315: 'outcom', 316: 'outperform', 317: 'overal', 318: 'overview', 319: 'pair', 320: 'paper', 321: 'paramet', 322: 'particular', 323: 'past', 324: 'pathway', 325: 'patient', 326: 'pattern', 327: 'peptid', 328: 'perform', 329: 'perspect', 330: 'pharmaceut', 331: 'pharmacokinet', 332: 'pharmacolog', 333: 'phenotyp', 334: 'physicochem', 335: 'pipelin', 336: 'platform', 337: 'play', 338: 'point', 339: 'pose', 340: 'posit', 341: 'possibl', 342: 'potent', 343: 'potenti', 344: 'power', 345: 'ppi', 346: 'practic', 347: 'precis', 348: 'predict', 349: 'predictor', 350: 'present', 351: 'previous', 352: 'problem', 353: 'process', 354: 'produc', 355: 'product', 356: 'profil', 357: 'program', 358: 'progress', 359: 'project', 360: 'promis', 361: 'promiscu', 362: 'properti', 363: 'propos', 364: 'protein', 365: 'protocol', 366: 'provid', 367: 'public', 368: 'publish', 369: 'qsar', 370: 'quantit', 371: 'random', 372: 'rang', 373: 'rank', 374: 'rapid', 375: 'rate', 376: 'ration', 377: 'reaction', 378: 'recent', 379: 'receptor', 380: 'recognit', 381: 'reduc', 382: 'regress', 383: 'rel', 384: 'relat', 385: 'relationship', 386: 'relev', 387: 'reli', 388: 'reliabl', 389: 'remain', 390: 'report', 391: 'reposit', 392: 'repres', 393: 'represent', 394: 'repurpos', 395: 'requir', 396: 'research', 397: 'residu', 398: 'resist', 399: 'resourc', 400: 'respect', 401: 'respons', 402: 'result', 403: 'reveal', 404: 'review', 405: 'risk', 406: 'robust', 407: 'role', 408: 'sampl', 409: 'sars', 410: 'scaffold', 411: 'scal', 412: 'scienc', 413: 'scientif', 414: 'score', 415: 'screen', 416: 'search', 417: 'select', 418: 'sensit', 419: 'sequenc', 420: 'seri', 421: 'set', 422: 'sever', 423: 'sf', 424: 'shown', 425: 'signific', 426: 'significantli', 427: 'silico', 428: 'similar', 429: 'simul', 430: 'singl', 431: 'site', 432: 'small', 433: 'softwar', 434: 'solut', 435: 'sourc', 436: 'space', 437: 'specif', 438: 'stabil', 439: 'stage', 440: 'standard', 441: 'state', 442: 'statist', 443: 'step', 444: 'strategi', 445: 'structur', 446: 'structure', 447: 'studi', 448: 'success', 449: 'suggest', 450: 'supervis', 451: 'support', 452: 'svm', 453: 'synthesi', 454: 'synthet', 455: 'systemat', 456: 'target', 457: 'task', 458: 'techniqu', 459: 'technolog', 460: 'term', 461: 'test', 462: 'therapeut', 463: 'therapi', 464: 'therefor', 465: 'throughput', 466: 'thu', 467: 'time', 468: 'tool', 469: 'toxic', 470: 'tradit', 471: 'train', 472: 'transform', 473: 'translat', 474: 'treatment', 475: 'tree', 476: 'trial', 477: 'type', 478: 'typic', 479: 'understand', 480: 'use', 481: 'user', 482: 'util', 483: 'valid', 484: 'valu', 485: 'valuabl', 486: 'varieti', 487: 'variou', 488: 'vector', 489: 'virtual', 490: 'viru', 491: 'visual', 492: 'vitro', 493: 'vivo', 494: 'way', 495: 'web', 496: 'wide', 497: 'work', 498: 'workflow', 499: 'year'}\n"
          ],
          "name": "stdout"
        }
      ]
    },
    {
      "cell_type": "code",
      "metadata": {
        "colab": {
          "base_uri": "https://localhost:8080/"
        },
        "id": "3crteLCQlfSO",
        "outputId": "d1b7c0cf-1735-4b6c-dd90-2e9f050ecf52"
      },
      "source": [
        "lda = LatentDirichletAllocation(n_components=n_components, max_iter=5,\n",
        "                                learning_method='online',\n",
        "                               \n",
        "                                random_state=0)\n",
        "lda.fit(tf)"
      ],
      "execution_count": 20,
      "outputs": [
        {
          "output_type": "execute_result",
          "data": {
            "text/plain": [
              "LatentDirichletAllocation(batch_size=128, doc_topic_prior=None,\n",
              "                          evaluate_every=-1, learning_decay=0.7,\n",
              "                          learning_method='online', learning_offset=10.0,\n",
              "                          max_doc_update_iter=100, max_iter=5,\n",
              "                          mean_change_tol=0.001, n_components=4, n_jobs=None,\n",
              "                          perp_tol=0.1, random_state=0, topic_word_prior=None,\n",
              "                          total_samples=1000000.0, verbose=0)"
            ]
          },
          "metadata": {
            "tags": []
          },
          "execution_count": 20
        }
      ]
    },
    {
      "cell_type": "code",
      "metadata": {
        "colab": {
          "base_uri": "https://localhost:8080/"
        },
        "id": "9GOTiRgUliXD",
        "outputId": "3c09ec0c-7e06-4e13-8078-01c9396dc0d2"
      },
      "source": [
        "def print_top_words(model, feature_names, n_top_words):\n",
        "    for topic_idx, topic in enumerate(model.components_):\n",
        "        message = \"Topic #%d: \" % topic_idx\n",
        "        message += \" \".join([feature_names[i]\n",
        "                             for i in topic.argsort()[:-n_top_words - 1:-1]])\n",
        "        print(message)\n",
        "    print()\n",
        "tf_feature_names = tf_vectorizer.get_feature_names()\n",
        "print_top_words(lda, tf_feature_names, n_top_words)"
      ],
      "execution_count": 21,
      "outputs": [
        {
          "output_type": "stream",
          "text": [
            "Topic #0: model learn compound chemic molecular molecul use predict activ drug data network machin deep method gener discoveri structur properti descriptor\n",
            "Topic #1: drug discoveri data develop learn comput method use approach research target machin new predict applic review diseas design process provid\n",
            "Topic #2: predict model drug use compound target method set machin learn data develop valid discoveri perform cell studi test effect identifi\n",
            "Topic #3: protein bind ligand predict bas use structur score function target learn method drug design affin dock model machin interact molecular\n",
            "\n"
          ],
          "name": "stdout"
        }
      ]
    },
    {
      "cell_type": "code",
      "metadata": {
        "id": "NUJ5388Vo2we",
        "colab": {
          "base_uri": "https://localhost:8080/",
          "height": 915
        },
        "outputId": "8d7df093-120f-4a00-ec5e-1475f3e1f3cd"
      },
      "source": [
        "import pyLDAvis.sklearn\n",
        "pyLDAvis.enable_notebook()\n",
        "pyLDAvis.sklearn.prepare(lda, tf, tf_vectorizer)"
      ],
      "execution_count": 22,
      "outputs": [
        {
          "output_type": "stream",
          "text": [
            "/usr/local/lib/python3.7/dist-packages/pyLDAvis/_prepare.py:232: FutureWarning: In a future version of pandas all arguments of DataFrame.drop except for the argument 'labels' will be keyword-only\n",
            "  head(R).drop('saliency', 1)\n"
          ],
          "name": "stderr"
        },
        {
          "output_type": "execute_result",
          "data": {
            "text/html": [
              "\n",
              "<link rel=\"stylesheet\" type=\"text/css\" href=\"https://cdn.rawgit.com/bmabey/pyLDAvis/files/ldavis.v1.0.0.css\">\n",
              "\n",
              "\n",
              "<div id=\"ldavis_el664139635126373712354083751\"></div>\n",
              "<script type=\"text/javascript\">\n",
              "\n",
              "var ldavis_el664139635126373712354083751_data = {\"mdsDat\": {\"x\": [0.09767633720047027, -0.0053362710577268945, 0.016763274410800683, -0.10910334055354413], \"y\": [-0.05141240354520277, -0.007618308853159935, 0.09074344157963013, -0.03171272918126742], \"topics\": [1, 2, 3, 4], \"cluster\": [1, 1, 1, 1], \"Freq\": [31.107384382543447, 27.87015732766579, 22.38878862119669, 18.63366966859407]}, \"tinfo\": {\"Term\": [\"protein\", \"bind\", \"ligand\", \"model\", \"score\", \"chemic\", \"compound\", \"molecular\", \"drug\", \"function\", \"affin\", \"dock\", \"predict\", \"site\", \"molecul\", \"structur\", \"review\", \"bas\", \"properti\", \"ai\", \"descriptor\", \"research\", \"represent\", \"qsar\", \"deep\", \"activ\", \"neural\", \"graph\", \"technolog\", \"receptor\", \"ai\", \"reposit\", \"review\", \"technolog\", \"big\", \"overview\", \"progress\", \"scienc\", \"discus\", \"scientif\", \"platform\", \"research\", \"articl\", \"background\", \"intellig\", \"artifici\", \"opportun\", \"repurpos\", \"advanc\", \"translat\", \"phenotyp\", \"commun\", \"medicin\", \"industri\", \"perspect\", \"rapid\", \"clinic\", \"genom\", \"futur\", \"practic\", \"pharmaceut\", \"covid\", \"drug\", \"comput\", \"discoveri\", \"field\", \"applic\", \"develop\", \"data\", \"diseas\", \"ml\", \"current\", \"process\", \"approach\", \"recent\", \"new\", \"provid\", \"learn\", \"method\", \"biolog\", \"target\", \"tool\", \"machin\", \"use\", \"design\", \"predict\", \"interact\", \"potenti\", \"model\", \"dili\", \"ppi\", \"enzym\", \"extern\", \"herg\", \"gene\", \"resist\", \"peptid\", \"curv\", \"caus\", \"infect\", \"induc\", \"promiscu\", \"cross\", \"mutat\", \"auc\", \"viru\", \"forest\", \"line\", \"vitro\", \"valid\", \"higher\", \"inhibit\", \"fold\", \"express\", \"sensit\", \"random\", \"best\", \"classifi\", \"risk\", \"cell\", \"human\", \"test\", \"toxic\", \"predict\", \"accuraci\", \"model\", \"set\", \"select\", \"classif\", \"use\", \"inhibitor\", \"drug\", \"effect\", \"compound\", \"train\", \"target\", \"featur\", \"perform\", \"identifi\", \"result\", \"studi\", \"machin\", \"method\", \"develop\", \"data\", \"learn\", \"activ\", \"dataset\", \"discoveri\", \"potenti\", \"protein\", \"approach\", \"graph\", \"qsar\", \"represent\", \"assay\", \"bioactiv\", \"architectur\", \"scaffold\", \"attent\", \"properti\", \"materi\", \"physicochem\", \"descriptor\", \"transform\", \"convolut\", \"quantit\", \"chemic\", \"fingerprint\", \"neural\", \"project\", \"space\", \"end\", \"relationship\", \"cheminformat\", \"reaction\", \"desir\", \"molecul\", \"lik\", \"deep\", \"visual\", \"input\", \"molecular\", \"network\", \"compound\", \"activ\", \"gener\", \"learn\", \"model\", \"structur\", \"task\", \"machin\", \"use\", \"data\", \"screen\", \"method\", \"predict\", \"discoveri\", \"design\", \"drug\", \"base\", \"approach\", \"set\", \"bas\", \"perform\", \"alloster\", \"sf\", \"site\", \"ligand\", \"md\", \"bind\", \"affin\", \"dock\", \"energi\", \"gpcr\", \"pose\", \"receptor\", \"score\", \"dynam\", \"residu\", \"protein\", \"kina\", \"atom\", \"protocol\", \"famili\", \"predictor\", \"rank\", \"function\", \"simul\", \"conform\", \"fragment\", \"modul\", \"classic\", \"complex\", \"coupl\", \"bas\", \"structur\", \"interact\", \"design\", \"predict\", \"target\", \"use\", \"structure\", \"molecular\", \"method\", \"perform\", \"learn\", \"base\", \"machin\", \"screen\", \"model\", \"drug\", \"inhibitor\", \"featur\", \"approach\", \"data\"], \"Freq\": [882.0, 465.0, 438.0, 1623.0, 260.0, 537.0, 841.0, 591.0, 2610.0, 312.0, 175.0, 173.0, 1696.0, 151.0, 539.0, 584.0, 215.0, 613.0, 269.0, 171.0, 260.0, 350.0, 161.0, 150.0, 401.0, 516.0, 247.0, 114.0, 161.0, 115.0, 170.29722230292802, 76.93149543641866, 206.59493360055484, 154.73623419700502, 55.14947809206316, 42.88277358691974, 70.11429028977933, 57.69540350885197, 151.72993960548345, 50.2120761365922, 83.53561270439009, 296.545865684269, 50.02425514308581, 78.1540663081467, 126.24259066215079, 134.0787825312398, 56.013909022743135, 92.18563308931844, 160.7338828762712, 36.37907333272743, 63.05317048724262, 36.68682552264112, 94.52806296456042, 49.11961231145676, 42.78703692799972, 51.436914861858405, 159.7934988925968, 63.732887780524585, 89.21662509269709, 38.97532874295579, 74.79270367505033, 94.4099660457935, 1445.936522568798, 363.0356233899739, 613.8009912435169, 129.6369407826033, 220.71933135174874, 427.3674924584865, 487.7543770491242, 197.6448691609212, 148.50069979125882, 140.54379373744365, 188.96204384413977, 317.5010436507427, 156.3748790865432, 239.1649644372881, 186.67988654962542, 417.900406353172, 343.2598206849924, 178.2741770527097, 295.31102729526833, 152.6136725720426, 286.0614875620536, 330.95419399692133, 190.99508766151567, 237.01831274107712, 159.20714861708, 150.83833954529766, 155.20684345675895, 47.787054154441066, 63.863838406849794, 41.719485767274996, 53.30376215496444, 53.07057323487711, 125.14552351551376, 82.48933314824714, 106.09665765825329, 42.69190115688895, 84.81522899408387, 50.67230621766099, 62.92811862750299, 40.40905466453, 62.782926123097404, 55.94471808779443, 43.60377251107894, 36.14332216726968, 69.58247435057349, 45.192715366167086, 77.21082923208007, 207.3097850974028, 35.92086070057882, 67.61785331990329, 48.805192656704136, 42.25710314286542, 42.73373145122095, 85.03930408854796, 91.71255545540942, 95.3939878440886, 40.123976614905494, 195.40220433217084, 142.27565996315715, 178.49028623285437, 112.88651617937875, 831.7656778880561, 150.93604462629924, 752.6885898787075, 270.20291927614437, 154.03647017703878, 115.08438668733143, 498.2455851772992, 131.00567181016228, 738.5108044818177, 174.27156164907518, 318.0583898213831, 158.28511976274973, 304.404169996169, 168.79429729052114, 200.71208925281184, 173.82423752418865, 162.05338536437966, 191.36345790462104, 266.3732572153159, 277.3295278589502, 235.19453936015236, 259.5952391321342, 263.0507675680844, 171.91980753704843, 142.0734693728569, 202.19302110537345, 146.32460022574463, 166.74762459438756, 143.33418799252559, 111.56947700406151, 137.84403802103907, 145.6295129946592, 116.20058302927761, 78.44394042247137, 42.10181085413583, 48.29453439227432, 36.35384634672278, 202.7490036221479, 37.24789922269115, 34.287215619191024, 190.53290654542892, 35.519465288137965, 56.86950091268991, 75.4407934421425, 368.8661316305133, 111.43065941898138, 168.14825369428675, 37.16540819033647, 113.80485899360959, 36.35011475702325, 88.6626705823361, 57.93254468300561, 48.34744730723925, 34.85102944684923, 324.29054760114286, 36.646326902696444, 241.12081834747426, 34.92363256206452, 36.312157443586976, 326.81672774749643, 243.09816077267206, 405.68473695724623, 252.2383153670302, 223.41473080677932, 504.3895590736992, 556.3834833111658, 204.5273473363612, 88.11763412880327, 241.95294460206895, 295.67571292054345, 244.44200815166852, 147.64961019959122, 229.47509305022822, 289.58983219813257, 205.26818681098177, 149.9395917933164, 246.71532874367662, 127.90103086858365, 143.06166847295003, 128.7561358052206, 121.09599001759271, 118.99094371459141, 62.96359583359819, 67.49722798363992, 147.47035723732674, 422.277557993236, 51.76393385760497, 435.2468614155392, 164.20840236000416, 162.0403602009067, 53.814310683100985, 66.74714213879639, 62.6139208637886, 100.41599990966047, 225.06998642243045, 70.32185291195549, 38.868139150649114, 668.913841025936, 54.246246917204274, 65.45224383336506, 37.987709892959856, 36.61702660869059, 40.35892753919502, 48.69839130664183, 218.26744540182455, 79.53871852138151, 45.90964244597029, 42.75192869138807, 59.16798998292837, 27.761761055828792, 110.9883725233232, 24.254385151689878, 267.7721213304315, 230.01355898280931, 157.60474941140848, 176.39940906683233, 338.54953350933874, 216.53511544874192, 249.40380787990074, 82.81972344250217, 147.96333258935803, 195.453719441923, 125.6451032171823, 198.80729460179617, 115.53745467646317, 157.7915308596053, 115.32801497086358, 159.02742693819812, 179.76436139231268, 85.63940606671385, 90.3219767766614, 99.97227022332778, 86.65408392995428], \"Total\": [882.0, 465.0, 438.0, 1623.0, 260.0, 537.0, 841.0, 591.0, 2610.0, 312.0, 175.0, 173.0, 1696.0, 151.0, 539.0, 584.0, 215.0, 613.0, 269.0, 171.0, 260.0, 350.0, 161.0, 150.0, 401.0, 516.0, 247.0, 114.0, 161.0, 115.0, 171.52595203904514, 78.91904917399904, 215.5107480043462, 161.82860882789177, 58.1113665377752, 46.9235146681089, 78.81918489819166, 65.35649783569319, 175.19907970314705, 58.55381928044278, 98.55857806788912, 350.56449235477567, 59.93153863319699, 93.89785783375896, 152.07691142959365, 162.02129787556686, 68.39186503467786, 112.62655903244938, 200.15869739160058, 45.722069993245555, 79.77039230307727, 46.899087021160526, 121.60769044674888, 63.37598599715124, 55.32450805100615, 66.8529616330611, 208.4486768504612, 83.91205280908963, 117.85129818875374, 51.594565066277234, 99.32642983181482, 125.71144328320315, 2610.927017186605, 584.6247381546692, 1105.075333349513, 189.84312173134154, 368.6654178659761, 849.3734049849281, 1078.4457082628812, 350.69109398860957, 242.51213107158242, 229.27894250216968, 345.50226924714445, 703.8691703395461, 271.1926301539478, 519.4933061210658, 357.1128676404685, 1384.148027596752, 1045.5181610360937, 362.50070110651484, 867.4122181800128, 281.8570795342707, 952.1792202390438, 1374.2792999746648, 588.1249286035845, 1696.9233563366047, 432.4667196658927, 370.89409653864084, 1623.3063435848303, 48.65062774882632, 65.2688635810315, 44.32287550564334, 57.53095653847381, 57.712458144308705, 137.46266756318775, 91.28092514992822, 117.55982276673988, 47.79366125263652, 95.08896442247648, 57.82783293980696, 72.47062601675962, 46.91037069900383, 73.01434095785629, 69.09955594805938, 54.35635811998882, 46.04208474950415, 89.42035620602083, 58.086165345232736, 99.91144718304173, 272.1227653048889, 47.60398469901461, 91.3431732564795, 66.09000811711532, 57.429656224053765, 58.1893582705334, 118.59917036213228, 129.10941808044097, 134.94822435060414, 58.21448317402006, 287.8438406773634, 210.25050733837375, 278.0159019465525, 170.6757393642908, 1696.9233563366047, 243.9665413825603, 1623.3063435848303, 498.28659241745765, 263.9878873045149, 185.38332250478683, 1374.2792999746648, 226.9060286470356, 2610.927017186605, 340.88930835266956, 841.0669485728259, 302.696974818535, 867.4122181800128, 366.88210335821856, 490.5559625811276, 394.7695570937233, 376.56877987033147, 515.5515107011652, 952.1792202390438, 1045.5181610360937, 849.3734049849281, 1078.4457082628812, 1384.148027596752, 516.4932125452424, 322.91562865220936, 1105.075333349513, 370.89409653864084, 882.6375805400346, 703.8691703395461, 114.59009050174897, 150.53274581167418, 161.0778435968609, 138.51079940221072, 99.23801473397387, 53.28213463531617, 63.452454049308024, 47.99934155050786, 269.003118883726, 50.35554006439342, 46.79036585863065, 260.67374310065213, 48.89548212291379, 81.57510625716465, 108.9777203263195, 537.073162673242, 163.22535802071343, 247.06866697429064, 56.248588200807326, 177.757587735472, 57.440220059695754, 141.9879365789508, 93.36160268061002, 79.1160597440154, 57.18846038078709, 539.3185269876107, 60.97186549535918, 401.9507027430163, 58.65274990036703, 61.55242676946283, 591.9336470651215, 465.10209338081063, 841.0669485728259, 516.4932125452424, 470.54622018146273, 1384.148027596752, 1623.3063435848303, 584.2510024031507, 177.58853412408837, 952.1792202390438, 1374.2792999746648, 1078.4457082628812, 480.63296227534624, 1045.5181610360937, 1696.9233563366047, 1105.075333349513, 588.1249286035845, 2610.927017186605, 423.73535813165245, 703.8691703395461, 498.28659241745765, 613.8641252378982, 490.5559625811276, 63.832745627670086, 68.43607763024426, 151.28296022558652, 438.2188250501931, 54.46264236215299, 465.2481789296303, 175.68104369583963, 173.63021981579084, 58.292366735173864, 72.9628065512876, 69.37372309083443, 115.7318801116131, 260.76965193794103, 83.57561782566236, 51.25202394939423, 882.6375805400346, 71.86056063742484, 87.93192907594775, 51.18147331578838, 50.27215944368339, 55.907553898084714, 67.77463418854144, 312.2890983293577, 117.44595556510691, 70.28845901228416, 67.06192816047692, 93.861436741273, 49.62888733059545, 209.004821808619, 45.7179150665463, 613.8641252378982, 584.2510024031507, 432.4667196658927, 588.1249286035845, 1696.9233563366047, 867.4122181800128, 1374.2792999746648, 202.59706769872946, 591.9336470651215, 1045.5181610360937, 490.5559625811276, 1384.148027596752, 423.73535813165245, 952.1792202390438, 480.63296227534624, 1623.3063435848303, 2610.927017186605, 226.9060286470356, 366.88210335821856, 703.8691703395461, 1078.4457082628812], \"Category\": [\"Default\", \"Default\", \"Default\", \"Default\", \"Default\", \"Default\", \"Default\", \"Default\", \"Default\", \"Default\", \"Default\", \"Default\", \"Default\", \"Default\", \"Default\", \"Default\", \"Default\", \"Default\", \"Default\", \"Default\", \"Default\", \"Default\", \"Default\", \"Default\", \"Default\", \"Default\", \"Default\", \"Default\", \"Default\", \"Default\", \"Topic1\", \"Topic1\", \"Topic1\", \"Topic1\", \"Topic1\", \"Topic1\", \"Topic1\", \"Topic1\", \"Topic1\", \"Topic1\", \"Topic1\", \"Topic1\", \"Topic1\", \"Topic1\", \"Topic1\", \"Topic1\", \"Topic1\", \"Topic1\", \"Topic1\", \"Topic1\", \"Topic1\", \"Topic1\", \"Topic1\", \"Topic1\", \"Topic1\", \"Topic1\", \"Topic1\", \"Topic1\", \"Topic1\", \"Topic1\", \"Topic1\", \"Topic1\", \"Topic1\", \"Topic1\", \"Topic1\", \"Topic1\", \"Topic1\", \"Topic1\", \"Topic1\", \"Topic1\", \"Topic1\", \"Topic1\", \"Topic1\", \"Topic1\", \"Topic1\", \"Topic1\", \"Topic1\", \"Topic1\", \"Topic1\", \"Topic1\", \"Topic1\", \"Topic1\", \"Topic1\", \"Topic1\", \"Topic1\", \"Topic1\", \"Topic1\", \"Topic1\", \"Topic1\", \"Topic2\", \"Topic2\", \"Topic2\", \"Topic2\", \"Topic2\", \"Topic2\", \"Topic2\", \"Topic2\", \"Topic2\", \"Topic2\", \"Topic2\", \"Topic2\", \"Topic2\", \"Topic2\", \"Topic2\", \"Topic2\", \"Topic2\", \"Topic2\", \"Topic2\", \"Topic2\", \"Topic2\", \"Topic2\", \"Topic2\", \"Topic2\", \"Topic2\", \"Topic2\", \"Topic2\", \"Topic2\", \"Topic2\", \"Topic2\", \"Topic2\", \"Topic2\", \"Topic2\", \"Topic2\", \"Topic2\", \"Topic2\", \"Topic2\", \"Topic2\", \"Topic2\", \"Topic2\", \"Topic2\", \"Topic2\", \"Topic2\", \"Topic2\", \"Topic2\", \"Topic2\", \"Topic2\", \"Topic2\", \"Topic2\", \"Topic2\", \"Topic2\", \"Topic2\", \"Topic2\", \"Topic2\", \"Topic2\", \"Topic2\", \"Topic2\", \"Topic2\", \"Topic2\", \"Topic2\", \"Topic2\", \"Topic2\", \"Topic2\", \"Topic3\", \"Topic3\", \"Topic3\", \"Topic3\", \"Topic3\", \"Topic3\", \"Topic3\", \"Topic3\", \"Topic3\", \"Topic3\", \"Topic3\", \"Topic3\", \"Topic3\", \"Topic3\", \"Topic3\", \"Topic3\", \"Topic3\", \"Topic3\", \"Topic3\", \"Topic3\", \"Topic3\", \"Topic3\", \"Topic3\", \"Topic3\", \"Topic3\", \"Topic3\", \"Topic3\", \"Topic3\", \"Topic3\", \"Topic3\", \"Topic3\", \"Topic3\", \"Topic3\", \"Topic3\", \"Topic3\", \"Topic3\", \"Topic3\", \"Topic3\", \"Topic3\", \"Topic3\", \"Topic3\", \"Topic3\", \"Topic3\", \"Topic3\", \"Topic3\", \"Topic3\", \"Topic3\", \"Topic3\", \"Topic3\", \"Topic3\", \"Topic3\", \"Topic3\", \"Topic3\", \"Topic4\", \"Topic4\", \"Topic4\", \"Topic4\", \"Topic4\", \"Topic4\", \"Topic4\", \"Topic4\", \"Topic4\", \"Topic4\", \"Topic4\", \"Topic4\", \"Topic4\", \"Topic4\", \"Topic4\", \"Topic4\", \"Topic4\", \"Topic4\", \"Topic4\", \"Topic4\", \"Topic4\", \"Topic4\", \"Topic4\", \"Topic4\", \"Topic4\", \"Topic4\", \"Topic4\", \"Topic4\", \"Topic4\", \"Topic4\", \"Topic4\", \"Topic4\", \"Topic4\", \"Topic4\", \"Topic4\", \"Topic4\", \"Topic4\", \"Topic4\", \"Topic4\", \"Topic4\", \"Topic4\", \"Topic4\", \"Topic4\", \"Topic4\", \"Topic4\", \"Topic4\", \"Topic4\", \"Topic4\", \"Topic4\", \"Topic4\", \"Topic4\"], \"logprob\": [30.0, 29.0, 28.0, 27.0, 26.0, 25.0, 24.0, 23.0, 22.0, 21.0, 20.0, 19.0, 18.0, 17.0, 16.0, 15.0, 14.0, 13.0, 12.0, 11.0, 10.0, 9.0, 8.0, 7.0, 6.0, 5.0, 4.0, 3.0, 2.0, 1.0, -4.978, -5.7726, -4.7848, -5.0738, -6.1055, -6.3571, -5.8654, -6.0603, -5.0934, -6.1993, -5.6903, -4.4233, -6.203, -5.7568, -5.2773, -5.2171, -6.0899, -5.5917, -5.0358, -6.5215, -5.9715, -6.5131, -5.5666, -6.2213, -6.3593, -6.1752, -5.0416, -5.9608, -5.6245, -6.4526, -5.8008, -5.5679, -2.839, -4.221, -3.6959, -5.2508, -4.7186, -4.0579, -3.9257, -4.8291, -5.1149, -5.17, -4.874, -4.355, -5.0633, -4.6384, -4.8861, -4.0803, -4.277, -4.9322, -4.4275, -5.0876, -4.4593, -4.3135, -4.8633, -4.6474, -5.0453, -5.0993, -5.0708, -6.1389, -5.8489, -6.2747, -6.0296, -6.034, -5.1762, -5.593, -5.3413, -6.2516, -5.5652, -6.0803, -5.8636, -6.3066, -5.866, -5.9813, -6.2305, -6.4181, -5.7631, -6.1947, -5.6591, -4.6714, -6.4243, -5.7918, -6.1178, -6.2619, -6.2506, -5.5625, -5.487, -5.4476, -6.3137, -4.7306, -5.0479, -4.8211, -5.2793, -3.2821, -4.9888, -3.382, -4.4065, -4.9684, -5.26, -3.7945, -5.1304, -3.401, -4.845, -4.2434, -4.9412, -4.2873, -4.877, -4.7038, -4.8476, -4.9177, -4.7515, -4.4207, -4.3804, -4.5452, -4.4465, -4.4333, -4.8586, -5.0493, -4.6964, -5.0198, -4.8892, -5.0405, -5.072, -4.8605, -4.8056, -5.0313, -5.4243, -6.0465, -5.9093, -6.1933, -4.4747, -6.169, -6.2519, -4.5368, -6.2166, -5.7459, -5.4633, -3.8762, -5.0732, -4.6618, -6.1713, -5.0522, -6.1934, -5.3018, -5.7274, -5.9082, -6.2356, -4.005, -6.1853, -4.3013, -6.2335, -6.1945, -3.9972, -4.2932, -3.7811, -4.2563, -4.3776, -3.5633, -3.4652, -4.4659, -5.308, -4.2979, -4.0974, -4.2877, -4.7918, -4.3508, -4.1182, -4.4623, -4.7764, -4.2784, -4.9354, -4.8234, -4.9287, -4.9901, -5.0076, -5.4605, -5.391, -4.6094, -3.5574, -5.6564, -3.5271, -4.5019, -4.5152, -5.6175, -5.4021, -5.4661, -4.9937, -4.1866, -5.35, -5.9429, -3.0974, -5.6095, -5.4217, -5.9658, -6.0025, -5.9052, -5.7174, -4.2173, -5.2268, -5.7764, -5.8476, -5.5227, -6.2794, -4.8936, -6.4145, -4.0129, -4.1649, -4.543, -4.4303, -3.7784, -4.2253, -4.084, -5.1864, -4.6061, -4.3277, -4.7696, -4.3107, -4.8535, -4.5418, -4.8553, -4.534, -4.4114, -5.1529, -5.0997, -4.9982, -5.1411], \"loglift\": [30.0, 29.0, 28.0, 27.0, 26.0, 25.0, 24.0, 23.0, 22.0, 21.0, 20.0, 19.0, 18.0, 17.0, 16.0, 15.0, 14.0, 13.0, 12.0, 11.0, 10.0, 9.0, 8.0, 7.0, 6.0, 5.0, 4.0, 3.0, 2.0, 1.0, 1.1605, 1.1422, 1.1255, 1.1229, 1.1154, 1.0777, 1.0507, 1.043, 1.0239, 1.014, 1.0023, 1.0004, 0.987, 0.9842, 0.9815, 0.9784, 0.9681, 0.9675, 0.9484, 0.9391, 0.9326, 0.9221, 0.9158, 0.9129, 0.9107, 0.9056, 0.9019, 0.8927, 0.8894, 0.8872, 0.884, 0.8814, 0.5768, 0.6913, 0.5797, 0.7863, 0.6547, 0.4809, 0.3743, 0.5943, 0.6773, 0.6783, 0.5643, 0.3716, 0.6172, 0.392, 0.5191, -0.0299, 0.0539, 0.458, 0.0902, 0.5542, -0.0348, -0.256, 0.043, -0.8007, 0.1684, 0.268, -1.1797, 1.2597, 1.2559, 1.2171, 1.2013, 1.1938, 1.1837, 1.1763, 1.175, 1.1647, 1.1633, 1.1455, 1.1364, 1.1284, 1.1266, 1.0664, 1.0572, 1.0356, 1.0268, 1.0266, 1.0199, 1.0056, 0.996, 0.9769, 0.9744, 0.9708, 0.9689, 0.945, 0.9356, 0.9307, 0.9055, 0.8903, 0.8871, 0.8345, 0.8642, 0.5646, 0.7974, 0.509, 0.6656, 0.7389, 0.8009, 0.263, 0.7283, 0.0148, 0.6067, 0.3052, 0.6293, 0.2305, 0.5013, 0.3839, 0.4574, 0.4344, 0.2866, 0.0038, -0.0494, -0.0065, -0.1465, -0.3829, 0.1776, 0.4566, -0.4208, 0.3475, -0.3888, -0.3138, 1.4699, 1.4086, 1.3958, 1.321, 1.2615, 1.2611, 1.2236, 1.2187, 1.2139, 1.1951, 1.1857, 1.1832, 1.177, 1.1358, 1.1288, 1.1209, 1.1149, 1.1118, 1.0822, 1.0507, 1.0391, 1.0257, 1.0194, 1.0041, 1.0013, 0.9879, 0.9875, 0.9856, 0.9781, 0.9689, 0.9026, 0.8478, 0.7675, 0.7799, 0.7517, 0.4871, 0.4258, 0.447, 0.7958, 0.1266, -0.0398, 0.0123, 0.3163, -0.0199, -0.2715, -0.1867, 0.1299, -0.8626, 0.2988, -0.0967, 0.1434, -0.1266, 0.0801, 1.6665, 1.6664, 1.6547, 1.6431, 1.6294, 1.6135, 1.6127, 1.6111, 1.6003, 1.5912, 1.5777, 1.5382, 1.533, 1.5075, 1.4036, 1.4029, 1.399, 1.385, 1.3821, 1.3633, 1.3543, 1.3497, 1.322, 1.2905, 1.2543, 1.23, 1.2188, 1.0993, 1.0473, 1.0463, 0.8506, 0.748, 0.6708, 0.476, 0.0683, 0.2924, -0.0264, 0.7856, 0.2938, 0.0033, 0.3181, -0.2603, 0.3807, -0.1173, 0.2529, -0.6429, -0.9956, 0.7058, 0.2785, -0.2715, -0.8412]}, \"token.table\": {\"Topic\": [1, 2, 3, 4, 1, 2, 3, 4, 1, 2, 3, 4, 1, 2, 3, 4, 1, 3, 4, 1, 2, 3, 4, 1, 2, 3, 4, 1, 2, 3, 4, 1, 2, 3, 1, 2, 3, 4, 1, 2, 3, 4, 1, 2, 3, 4, 1, 2, 3, 2, 4, 1, 2, 3, 4, 1, 2, 3, 4, 1, 2, 3, 4, 1, 2, 3, 4, 1, 2, 3, 1, 2, 3, 4, 1, 2, 3, 4, 1, 2, 3, 4, 1, 2, 3, 1, 2, 3, 4, 1, 2, 3, 4, 1, 2, 3, 4, 1, 2, 3, 4, 1, 2, 3, 4, 1, 2, 3, 4, 1, 2, 3, 4, 1, 2, 3, 4, 1, 2, 3, 4, 1, 2, 3, 4, 1, 2, 3, 4, 2, 3, 4, 1, 2, 3, 4, 1, 2, 3, 4, 1, 2, 3, 1, 2, 3, 4, 1, 2, 3, 4, 1, 2, 3, 4, 1, 2, 3, 4, 1, 2, 3, 4, 1, 2, 3, 4, 1, 2, 3, 4, 1, 2, 3, 4, 1, 2, 3, 4, 1, 2, 3, 4, 2, 1, 2, 3, 4, 1, 2, 3, 4, 1, 2, 3, 4, 1, 2, 3, 4, 1, 2, 3, 4, 1, 2, 3, 4, 1, 2, 3, 4, 1, 2, 3, 4, 1, 2, 3, 4, 2, 3, 4, 1, 2, 3, 2, 3, 1, 2, 3, 4, 1, 2, 3, 4, 1, 2, 3, 4, 2, 3, 4, 2, 3, 4, 2, 3, 4, 1, 2, 3, 4, 1, 2, 3, 4, 1, 2, 3, 4, 1, 2, 1, 2, 3, 4, 1, 2, 3, 4, 1, 3, 4, 1, 3, 2, 3, 1, 2, 3, 4, 1, 2, 3, 4, 1, 2, 3, 4, 1, 2, 3, 4, 1, 2, 3, 1, 2, 3, 1, 2, 3, 4, 1, 2, 3, 4, 1, 2, 3, 4, 1, 2, 3, 4, 1, 2, 3, 4, 2, 3, 4, 1, 2, 3, 4, 1, 2, 3, 4, 1, 2, 3, 4, 1, 2, 3, 4, 1, 2, 3, 4, 1, 3, 1, 4, 1, 2, 3, 4, 1, 2, 3, 4, 1, 2, 3, 4, 1, 2, 3, 4, 1, 2, 3, 4, 1, 2, 3, 4, 1, 2, 3, 4, 1, 2, 4, 1, 2, 3, 4, 1, 2, 3, 4, 1, 2, 3, 4, 1, 2, 3, 4, 1, 3, 1, 2, 1, 2, 3, 4, 1, 2, 3, 4, 1, 2, 3, 4, 1, 2, 3, 1, 2, 3, 4, 1, 2, 1, 3, 4, 1, 2, 3, 4, 1, 2, 1, 2, 3, 1, 2, 3, 4, 1, 2, 3, 4, 1, 2, 3, 4, 1, 2, 3, 4, 1, 2, 3, 4, 2, 3, 4, 1, 2, 3, 4, 1, 2, 3, 4, 1, 2, 4, 1, 2, 3, 4, 1, 2, 3, 1, 2, 3, 4, 1, 2, 3, 4, 2, 3, 4, 1, 2, 3, 4, 1, 2, 3, 4, 1, 2, 3, 4, 1, 2, 3, 4, 1, 2, 3, 4, 1, 2, 3, 1, 2, 3, 4, 1, 2, 3, 4, 1, 2, 3, 4, 2, 4, 1, 2, 3, 1, 2, 3, 4, 1, 2, 3, 4, 1, 2, 3, 1, 2, 3, 4, 1, 3, 4, 1, 2, 3, 1, 2, 4, 1, 2, 3, 4, 1, 2, 3, 4, 1, 2, 3, 4, 1, 2, 3, 4, 4, 1, 2, 4, 1, 2, 4, 1, 2, 3, 4, 1, 2, 3, 4, 1, 2, 3, 4, 1, 2, 3, 4, 1, 2, 3, 4, 1, 2, 3, 4, 1, 2, 3, 4, 1, 2, 3, 4, 1, 2, 3, 4, 1, 2, 3, 1, 2, 3, 4, 1, 2, 3, 4, 1, 2, 3, 4, 1, 2, 3, 4, 1, 2, 3, 4, 1, 2, 3, 1, 2, 3, 4, 1, 2, 3], \"Freq\": [0.028692459057422157, 0.6189373310958208, 0.07378060900479984, 0.27872674512924384, 0.05421174822805117, 0.33301502482945716, 0.4879057340524605, 0.12391256737840267, 0.8043617494423011, 0.029976214264930478, 0.11990485705972191, 0.04996035710821746, 0.005692133761063724, 0.05122920384957351, 0.011384267522127447, 0.9335099368144506, 0.9911036666993821, 0.005830021568819895, 0.9869542564794658, 0.5994595350962425, 0.09222454386096038, 0.22784887306825505, 0.0813745975243768, 0.451788504739591, 0.20316275527597957, 0.20316275527597957, 0.14207185683634935, 0.11260810102797783, 0.03753603367599261, 0.7882567071958448, 0.056304050513988915, 0.8342852718335557, 0.06674282174668446, 0.10011423262002668, 0.82705176268192, 0.006172028079715821, 0.16047273007261134, 0.012344056159431642, 0.0721965366105626, 0.05775722928845009, 0.8374798246825262, 0.028878614644225045, 0.022744866637380134, 0.0341172999560702, 0.19333136641773113, 0.7392081657148543, 0.16666895298098847, 0.06250085736787067, 0.7500102884144481, 0.8094729213254556, 0.18397111848305808, 0.8306898772716919, 0.11714857243575141, 0.03194961066429584, 0.010649870221431946, 0.24435374838343696, 0.12217687419171848, 0.19711202369597247, 0.4365786971117407, 0.16755741204381783, 0.259595990490422, 0.30207533438885464, 0.2737557717898995, 0.01549073669245345, 0.7125738878528587, 0.16265273527076124, 0.11618052519340089, 0.9464585549583892, 0.017208337362879803, 0.017208337362879803, 0.00644817139725711, 0.055884152109561616, 0.00214939046575237, 0.9349848526022809, 0.15115175409554812, 0.030230350819109623, 0.7859891212968503, 0.030230350819109623, 0.49103353305707853, 0.11310322952438326, 0.27862015077957825, 0.1158618448786365, 0.07361527220865798, 0.8938997339622754, 0.03154940237513913, 0.18412761542952835, 0.6774506605426044, 0.13201602615702032, 0.003474105951500535, 0.11171662292964786, 0.13778383494656568, 0.6870572310173343, 0.06516803004229459, 0.31062020324574957, 0.021422082982465486, 0.6212404064914991, 0.05355520745616372, 0.18134599593272843, 0.12089733062181895, 0.14104688572545546, 0.5641875429018218, 0.10788456981875257, 0.6203362764578273, 0.19419222567375463, 0.0755191988731268, 0.029640997643716627, 0.7039736940382699, 0.14079473880765397, 0.11856399057486651, 0.767575032940997, 0.2254751659264179, 0.004797343955881232, 0.004797343955881232, 0.7889279376228767, 0.10661188346255092, 0.08528950677004073, 0.04264475338502036, 0.31578218831924704, 0.1100453080506467, 0.03827662888718146, 0.5310882258096428, 0.06539312963531307, 0.37809118589144647, 0.4827201933079474, 0.0749048575822677, 0.620911118379606, 0.1299979201015153, 0.12315592430669872, 0.12657692220410702, 0.3129959072819495, 0.028454173389268134, 0.6544459879531671, 0.0122586417092429, 0.0122586417092429, 0.6987425774268453, 0.28194875931258667, 0.37184547841376975, 0.0656197903083123, 0.04374652687220821, 0.5249583224664984, 0.7477441794080472, 0.08750197844136721, 0.1590945062570313, 0.04108781864827888, 0.8628441916138564, 0.027391879098852587, 0.08217563729655776, 0.6149714337533012, 0.12212198684462719, 0.10031448919380091, 0.16573698214627977, 0.02092327672312059, 0.8997008990941853, 0.04184655344624118, 0.04184655344624118, 0.45250307573299314, 0.24108770428397178, 0.22625153786649657, 0.08067165489502132, 0.07122603540744617, 0.4397433490372763, 0.32206555140758264, 0.16722634400009098, 0.24132312579141357, 0.05722094735260322, 0.5995760135642337, 0.09951469104800559, 0.003836212992168824, 0.1764657976397659, 0.7327166815042453, 0.08823289881988294, 0.32476093209227025, 0.12072265014948266, 0.2550478524284845, 0.2992561468494218, 0.05245813543544658, 0.13988836116119088, 0.6120115800802101, 0.19234649659663744, 0.5027235341888023, 0.27667454457697555, 0.1212658642188446, 0.09889643295517424, 0.9866265292159151, 0.5556182293373154, 0.18279296795787903, 0.18550771500675842, 0.07601291736862296, 0.8675844659546443, 0.005707792539175292, 0.07990909554845409, 0.045662340313402335, 0.5645994534621145, 0.38210266042385527, 0.008554537173668402, 0.04562419825956481, 0.0230374643552471, 0.03455619653287065, 0.005759366088811775, 0.9330173063875076, 0.5538262810417933, 0.2830412321506814, 0.09460241453480149, 0.06894103083507801, 0.1316173339327967, 0.01196521217570879, 0.01196521217570879, 0.8375648522996154, 0.2434807955728894, 0.510429619634732, 0.10853963176140853, 0.13787466737260004, 0.15668463649071318, 0.10445642432714211, 0.6267385459628527, 0.10445642432714211, 0.03430980953451649, 0.017154904767258245, 0.03430980953451649, 0.9263648574319452, 0.9475919493231529, 0.022561713079122688, 0.045123426158245376, 0.17412606408414497, 0.7313294691534088, 0.08706303204207248, 0.9212431565353214, 0.05214583904916913, 0.0596751767419242, 0.1193503534838484, 0.0795669023225656, 0.7359938464837318, 0.04906208243803337, 0.46063844066820225, 0.24531041219016686, 0.24531041219016686, 0.6847759287480052, 0.04214005715372339, 0.18436275004753985, 0.09481512859587764, 0.22055396561257087, 0.6800413939720935, 0.09189748567190453, 0.741413133331277, 0.04539264081620063, 0.2118323238089363, 0.7828195163830803, 0.08946508758663775, 0.13419763137995663, 0.16402749371711134, 0.16402749371711134, 0.029823180675838425, 0.6411983845305261, 0.1537037323966285, 0.08645834947310352, 0.06084106074033211, 0.698071117968021, 0.755188965822466, 0.10182323134684934, 0.0678821542312329, 0.0678821542312329, 0.08002172658946552, 0.9093378021530172, 0.25077238948916464, 0.12963657422744954, 0.47391731233969253, 0.1445129024174847, 0.7627033049186387, 0.22642754364772086, 0.01191723913935373, 0.01191723913935373, 0.0685280656862529, 0.013705613137250579, 0.9182760801957889, 0.017453516191868915, 0.9773969067446592, 0.9183459118562355, 0.06930912542311211, 0.04201328969928434, 0.7562392145871182, 0.12603986909785303, 0.08402657939856868, 0.16171185710996147, 0.6753848149886625, 0.05707477309763346, 0.104637084012328, 0.28370982003916223, 0.44076347041798414, 0.10892430590789264, 0.16971926734485596, 0.05519477641982776, 0.8693177286122872, 0.05519477641982776, 0.01379869410495694, 0.7731635134197763, 0.06311538885059399, 0.15778847212648497, 0.10375626571110498, 0.8819282585443924, 0.01729271095185083, 0.05473862820553282, 0.7444453435952464, 0.13137270769327877, 0.07663407948774595, 0.004407110758416883, 0.5773315093526116, 0.039663996825751946, 0.3790115252238519, 0.03249262628573132, 0.1949557577143879, 0.5848672731431637, 0.1949557577143879, 0.8285281362932837, 0.006575620129311776, 0.1643905032327944, 0.006575620129311776, 0.3676583486535966, 0.24741788242726312, 0.020810849923788486, 0.3653460319953979, 0.22265342571885297, 0.01391583910742831, 0.7514553118011287, 0.3019908215494544, 0.19000857910886723, 0.3641229044519737, 0.14377074997210867, 0.013691789711025687, 0.013691789711025687, 0.009127859807350458, 0.9629892096754734, 0.13120805694568935, 0.13120805694568935, 0.6068372633738133, 0.13120805694568935, 0.06886321340419296, 0.7747111507971709, 0.13772642680838593, 0.01721580335104824, 0.30036362264679534, 0.2793591735106558, 0.25415383454728835, 0.1659351481755023, 0.238305457247697, 0.7347751598470658, 0.03672241950180944, 0.9547829070470455, 0.7812005939015824, 0.016446328292664892, 0.17268644707298136, 0.032892656585329784, 0.3280669937479535, 0.2649404001987846, 0.2190301503448436, 0.1865103900316354, 0.6144022541949442, 0.08659360629593173, 0.05360556580224345, 0.24328679864095104, 0.09548413373270358, 0.46386808194016643, 0.3425108280992464, 0.09794824040967658, 0.10654002695020301, 0.19177204851036542, 0.0745780188651421, 0.6285861590061977, 0.11681408452976667, 0.14833534543462434, 0.6007581490102286, 0.13350181089116192, 0.13683966167763528, 0.06081762741228235, 0.5524267823282314, 0.25002802380604966, 0.02894374605682497, 0.8104248895910992, 0.15919060331253734, 0.20640629523333126, 0.13115400009617922, 0.5224659348093698, 0.14190432797291525, 0.02833220450705068, 0.07690169794770899, 0.6799729081692163, 0.21451526269624085, 0.46006367586246055, 0.1924952618671383, 0.1924952618671383, 0.15399620949371065, 0.8188108333002089, 0.10235135416252611, 0.05848648809287206, 0.014621622023218015, 0.9163848936751646, 0.06393382979129054, 0.09356938230356135, 0.9016685931070457, 0.09173265321906662, 0.4097391843784976, 0.24258190517930953, 0.25685142901338653, 0.7772323969036719, 0.018075172021015624, 0.03615034404203125, 0.18075172021015626, 0.7550860342709819, 0.0704746965319583, 0.17115283443475587, 0.010067813790279758, 0.7897667064321267, 0.15043175360611935, 0.05014391786870645, 0.06411576282741631, 0.1923472884822489, 0.7266453120440515, 0.0213719209424721, 0.8522850232492105, 0.14204750387486842, 0.08648807837722511, 0.014414679729537519, 0.9081248229608637, 0.4071243015437653, 0.3936433644065545, 0.10245512224280186, 0.09706274738791755, 0.015321241172806647, 0.9805594350596254, 0.7558935703770633, 0.13567320493947288, 0.0969094320996235, 0.1396645282269238, 0.4902991033113949, 0.17089752399075064, 0.19977331252711886, 0.05366001176636659, 0.17886670588788864, 0.05366001176636659, 0.7154668235515546, 0.5470296921980696, 0.2112866006902597, 0.12445649081755022, 0.11866781682603626, 0.8881086513444266, 0.012687266447777524, 0.012687266447777524, 0.07612359868666514, 0.23111691183412517, 0.07111289594896159, 0.6577942875278947, 0.03555644797448079, 0.8526899149157529, 0.08526899149157528, 0.04263449574578764, 0.14126230267398918, 0.05947886428378492, 0.7546380906005211, 0.04460914821283869, 0.036254971129170664, 0.18920563058035939, 0.01699451771679875, 0.7579554901692241, 0.11722991956445164, 0.13676823949186026, 0.742456157241527, 0.5236439707019085, 0.18761575420870516, 0.17641481365893172, 0.11480964063517779, 0.059787655845058185, 0.019929218615019395, 0.9167440562908922, 0.15599518827422457, 0.14681900072868195, 0.6882140659156967, 0.009176187545542622, 0.008431762186418225, 0.716699785845549, 0.10961290842343692, 0.1686352437283645, 0.22132174049470604, 0.059019130798588275, 0.7229843522827064, 0.7628682223523024, 0.014958200438280441, 0.08974920262968264, 0.11966560350624353, 0.16431556427433638, 0.20223454064533708, 0.6067036219360112, 0.012639658790333567, 0.5752368709704373, 0.11799730686573073, 0.18805820781725835, 0.11799730686573073, 0.017281322986122564, 0.008640661493061282, 0.11232859940979666, 0.8640661493061281, 0.15494274041912812, 0.21128555511699287, 0.6268138135137455, 0.0070428518372330955, 0.9756833211488907, 0.012671211962972606, 0.012671211962972606, 0.012416356932400454, 0.006208178466200227, 0.9063940560652332, 0.07449814159440273, 0.8168588367641902, 0.06215230279727534, 0.06215230279727534, 0.06215230279727534, 0.8472050263990577, 0.03708304829356145, 0.06560847005783949, 0.05134575917570047, 0.2341370949925546, 0.7609455587258025, 0.0766863393255771, 0.8983256892424746, 0.010955191332225299, 0.13277786867306715, 0.43020029450073755, 0.27617796683997964, 0.1619889997811419, 0.9605089394234084, 0.004640139803977818, 0.03248097862784473, 0.004640139803977818, 0.24048998181689457, 0.687114233762556, 0.06871142337625559, 0.015759831750918787, 0.07879915875459394, 0.7564719240441018, 0.1260786540073503, 0.8874404522992114, 0.09180418472060808, 0.03060139490686936, 0.8539152631620087, 0.0683132210529607, 0.0683132210529607, 0.0038348020659934147, 0.1303832702437761, 0.8628304648485183, 0.26007371489512965, 0.19349484388197646, 0.3079272784358335, 0.23926781770351926, 0.14015794579741386, 0.5833600987243712, 0.1174296302626981, 0.15531015615389104, 0.1890380015682405, 0.7389667334031219, 0.03437054573968009, 0.03437054573968009, 0.05017192993034688, 0.5418568432477463, 0.2588871584405899, 0.14850891259382676, 0.9790157811497717, 0.28098030146049807, 0.04257277294856031, 0.6811643671769649, 0.006610129776075533, 0.013220259552151066, 0.9716890770831034, 0.09563586126797785, 0.04500511118493075, 0.6413228343852633, 0.2193999170265374, 0.10783036698416841, 0.1489086020257564, 0.35087659098023055, 0.3936664191485514, 0.1382053566621073, 0.10365401749658046, 0.34551339165526823, 0.4096801643912466, 0.2831918769890437, 0.37047704455415986, 0.21724308371762255, 0.12801824576217044, 0.34009205060422504, 0.35046774028367594, 0.05879557485022195, 0.2501694067156503, 0.14640584837438175, 0.03378596500947271, 0.49552748680559977, 0.3265976617582362, 0.9578034509636417, 0.006179377102991237, 0.03707626261794742, 0.006179377102991237, 0.05035683175666494, 0.6402511466204542, 0.19783041047261224, 0.10790749662142486, 0.542828302389321, 0.16320328045692004, 0.12417640904330872, 0.1702990752593948, 0.1464765882551118, 0.6620741789131054, 0.1874900329665431, 0.029732705473503478, 0.521974162757061, 0.31714885838403706, 0.12884172371851507, 0.24542144752421746, 0.020451787293684787, 0.7362643425726524, 0.020451787293684787, 0.7873659264621706, 0.04374255147012059, 0.13122765441036177, 0.021871275735060296, 0.2408535150068127, 0.36237175369605057, 0.2153856206707449, 0.18118587684802528, 0.09921992366110548, 0.7606860814018087, 0.07349623974896702, 0.06614661577407033, 0.1520348185379548, 0.7818933524809105, 0.0651577793734092, 0.20459398784173474, 0.01704949898681123, 0.596732464538393, 0.1875444888549235, 0.13011522069321532, 0.7706824610290446, 0.10008863130247332], \"Term\": [\"accuraci\", \"accuraci\", \"accuraci\", \"accuraci\", \"activ\", \"activ\", \"activ\", \"activ\", \"advanc\", \"advanc\", \"advanc\", \"advanc\", \"affin\", \"affin\", \"affin\", \"affin\", \"ai\", \"ai\", \"alloster\", \"applic\", \"applic\", \"applic\", \"applic\", \"approach\", \"approach\", \"approach\", \"approach\", \"architectur\", \"architectur\", \"architectur\", \"architectur\", \"articl\", \"articl\", \"articl\", \"artifici\", \"artifici\", \"artifici\", \"artifici\", \"assay\", \"assay\", \"assay\", \"assay\", \"atom\", \"atom\", \"atom\", \"atom\", \"attent\", \"attent\", \"attent\", \"auc\", \"auc\", \"background\", \"background\", \"background\", \"background\", \"bas\", \"bas\", \"bas\", \"bas\", \"base\", \"base\", \"base\", \"base\", \"best\", \"best\", \"best\", \"best\", \"big\", \"big\", \"big\", \"bind\", \"bind\", \"bind\", \"bind\", \"bioactiv\", \"bioactiv\", \"bioactiv\", \"bioactiv\", \"biolog\", \"biolog\", \"biolog\", \"biolog\", \"caus\", \"caus\", \"caus\", \"cell\", \"cell\", \"cell\", \"cell\", \"chemic\", \"chemic\", \"chemic\", \"chemic\", \"cheminformat\", \"cheminformat\", \"cheminformat\", \"cheminformat\", \"classic\", \"classic\", \"classic\", \"classic\", \"classif\", \"classif\", \"classif\", \"classif\", \"classifi\", \"classifi\", \"classifi\", \"classifi\", \"clinic\", \"clinic\", \"clinic\", \"clinic\", \"commun\", \"commun\", \"commun\", \"commun\", \"complex\", \"complex\", \"complex\", \"complex\", \"compound\", \"compound\", \"compound\", \"compound\", \"comput\", \"comput\", \"comput\", \"comput\", \"conform\", \"conform\", \"conform\", \"convolut\", \"convolut\", \"convolut\", \"convolut\", \"coupl\", \"coupl\", \"coupl\", \"coupl\", \"covid\", \"covid\", \"covid\", \"cross\", \"cross\", \"cross\", \"cross\", \"current\", \"current\", \"current\", \"current\", \"curv\", \"curv\", \"curv\", \"curv\", \"data\", \"data\", \"data\", \"data\", \"dataset\", \"dataset\", \"dataset\", \"dataset\", \"deep\", \"deep\", \"deep\", \"deep\", \"descriptor\", \"descriptor\", \"descriptor\", \"descriptor\", \"design\", \"design\", \"design\", \"design\", \"desir\", \"desir\", \"desir\", \"desir\", \"develop\", \"develop\", \"develop\", \"develop\", \"dili\", \"discoveri\", \"discoveri\", \"discoveri\", \"discoveri\", \"discus\", \"discus\", \"discus\", \"discus\", \"diseas\", \"diseas\", \"diseas\", \"diseas\", \"dock\", \"dock\", \"dock\", \"dock\", \"drug\", \"drug\", \"drug\", \"drug\", \"dynam\", \"dynam\", \"dynam\", \"dynam\", \"effect\", \"effect\", \"effect\", \"effect\", \"end\", \"end\", \"end\", \"end\", \"energi\", \"energi\", \"energi\", \"energi\", \"enzym\", \"enzym\", \"enzym\", \"express\", \"express\", \"express\", \"extern\", \"extern\", \"famili\", \"famili\", \"famili\", \"famili\", \"featur\", \"featur\", \"featur\", \"featur\", \"field\", \"field\", \"field\", \"field\", \"fingerprint\", \"fingerprint\", \"fingerprint\", \"fold\", \"fold\", \"fold\", \"forest\", \"forest\", \"forest\", \"fragment\", \"fragment\", \"fragment\", \"fragment\", \"function\", \"function\", \"function\", \"function\", \"futur\", \"futur\", \"futur\", \"futur\", \"gene\", \"gene\", \"gener\", \"gener\", \"gener\", \"gener\", \"genom\", \"genom\", \"genom\", \"genom\", \"gpcr\", \"gpcr\", \"gpcr\", \"graph\", \"graph\", \"herg\", \"herg\", \"higher\", \"higher\", \"higher\", \"higher\", \"human\", \"human\", \"human\", \"human\", \"identifi\", \"identifi\", \"identifi\", \"identifi\", \"induc\", \"induc\", \"induc\", \"induc\", \"industri\", \"industri\", \"industri\", \"infect\", \"infect\", \"infect\", \"inhibit\", \"inhibit\", \"inhibit\", \"inhibit\", \"inhibitor\", \"inhibitor\", \"inhibitor\", \"inhibitor\", \"input\", \"input\", \"input\", \"input\", \"intellig\", \"intellig\", \"intellig\", \"intellig\", \"interact\", \"interact\", \"interact\", \"interact\", \"kina\", \"kina\", \"kina\", \"learn\", \"learn\", \"learn\", \"learn\", \"ligand\", \"ligand\", \"ligand\", \"ligand\", \"lik\", \"lik\", \"lik\", \"lik\", \"line\", \"line\", \"line\", \"line\", \"machin\", \"machin\", \"machin\", \"machin\", \"materi\", \"materi\", \"md\", \"md\", \"medicin\", \"medicin\", \"medicin\", \"medicin\", \"method\", \"method\", \"method\", \"method\", \"ml\", \"ml\", \"ml\", \"ml\", \"model\", \"model\", \"model\", \"model\", \"modul\", \"modul\", \"modul\", \"modul\", \"molecul\", \"molecul\", \"molecul\", \"molecul\", \"molecular\", \"molecular\", \"molecular\", \"molecular\", \"mutat\", \"mutat\", \"mutat\", \"network\", \"network\", \"network\", \"network\", \"neural\", \"neural\", \"neural\", \"neural\", \"new\", \"new\", \"new\", \"new\", \"opportun\", \"opportun\", \"opportun\", \"opportun\", \"overview\", \"overview\", \"peptid\", \"peptid\", \"perform\", \"perform\", \"perform\", \"perform\", \"perspect\", \"perspect\", \"perspect\", \"perspect\", \"pharmaceut\", \"pharmaceut\", \"pharmaceut\", \"pharmaceut\", \"phenotyp\", \"phenotyp\", \"phenotyp\", \"physicochem\", \"physicochem\", \"physicochem\", \"physicochem\", \"platform\", \"platform\", \"pose\", \"pose\", \"pose\", \"potenti\", \"potenti\", \"potenti\", \"potenti\", \"ppi\", \"ppi\", \"practic\", \"practic\", \"practic\", \"predict\", \"predict\", \"predict\", \"predict\", \"predictor\", \"predictor\", \"predictor\", \"predictor\", \"process\", \"process\", \"process\", \"process\", \"progress\", \"progress\", \"progress\", \"progress\", \"project\", \"project\", \"project\", \"project\", \"promiscu\", \"promiscu\", \"promiscu\", \"properti\", \"properti\", \"properti\", \"properti\", \"protein\", \"protein\", \"protein\", \"protein\", \"protocol\", \"protocol\", \"protocol\", \"provid\", \"provid\", \"provid\", \"provid\", \"qsar\", \"qsar\", \"qsar\", \"quantit\", \"quantit\", \"quantit\", \"quantit\", \"random\", \"random\", \"random\", \"random\", \"rank\", \"rank\", \"rank\", \"rapid\", \"rapid\", \"rapid\", \"rapid\", \"reaction\", \"reaction\", \"reaction\", \"reaction\", \"recent\", \"recent\", \"recent\", \"recent\", \"receptor\", \"receptor\", \"receptor\", \"receptor\", \"relationship\", \"relationship\", \"relationship\", \"relationship\", \"reposit\", \"reposit\", \"reposit\", \"represent\", \"represent\", \"represent\", \"represent\", \"repurpos\", \"repurpos\", \"repurpos\", \"repurpos\", \"research\", \"research\", \"research\", \"research\", \"residu\", \"residu\", \"resist\", \"resist\", \"resist\", \"result\", \"result\", \"result\", \"result\", \"review\", \"review\", \"review\", \"review\", \"risk\", \"risk\", \"risk\", \"scaffold\", \"scaffold\", \"scaffold\", \"scaffold\", \"scienc\", \"scienc\", \"scienc\", \"scientif\", \"scientif\", \"scientif\", \"score\", \"score\", \"score\", \"screen\", \"screen\", \"screen\", \"screen\", \"select\", \"select\", \"select\", \"select\", \"sensit\", \"sensit\", \"sensit\", \"sensit\", \"set\", \"set\", \"set\", \"set\", \"sf\", \"simul\", \"simul\", \"simul\", \"site\", \"site\", \"site\", \"space\", \"space\", \"space\", \"space\", \"structur\", \"structur\", \"structur\", \"structur\", \"structure\", \"structure\", \"structure\", \"structure\", \"studi\", \"studi\", \"studi\", \"studi\", \"target\", \"target\", \"target\", \"target\", \"task\", \"task\", \"task\", \"task\", \"technolog\", \"technolog\", \"technolog\", \"technolog\", \"test\", \"test\", \"test\", \"test\", \"tool\", \"tool\", \"tool\", \"tool\", \"toxic\", \"toxic\", \"toxic\", \"train\", \"train\", \"train\", \"train\", \"transform\", \"transform\", \"transform\", \"transform\", \"translat\", \"translat\", \"translat\", \"translat\", \"use\", \"use\", \"use\", \"use\", \"valid\", \"valid\", \"valid\", \"valid\", \"viru\", \"viru\", \"viru\", \"visual\", \"visual\", \"visual\", \"visual\", \"vitro\", \"vitro\", \"vitro\"]}, \"R\": 30, \"lambda.step\": 0.01, \"plot.opts\": {\"xlab\": \"PC1\", \"ylab\": \"PC2\"}, \"topic.order\": [2, 3, 1, 4]};\n",
              "\n",
              "function LDAvis_load_lib(url, callback){\n",
              "  var s = document.createElement('script');\n",
              "  s.src = url;\n",
              "  s.async = true;\n",
              "  s.onreadystatechange = s.onload = callback;\n",
              "  s.onerror = function(){console.warn(\"failed to load library \" + url);};\n",
              "  document.getElementsByTagName(\"head\")[0].appendChild(s);\n",
              "}\n",
              "\n",
              "if(typeof(LDAvis) !== \"undefined\"){\n",
              "   // already loaded: just create the visualization\n",
              "   !function(LDAvis){\n",
              "       new LDAvis(\"#\" + \"ldavis_el664139635126373712354083751\", ldavis_el664139635126373712354083751_data);\n",
              "   }(LDAvis);\n",
              "}else if(typeof define === \"function\" && define.amd){\n",
              "   // require.js is available: use it to load d3/LDAvis\n",
              "   require.config({paths: {d3: \"https://cdnjs.cloudflare.com/ajax/libs/d3/3.5.5/d3.min\"}});\n",
              "   require([\"d3\"], function(d3){\n",
              "      window.d3 = d3;\n",
              "      LDAvis_load_lib(\"https://cdn.rawgit.com/bmabey/pyLDAvis/files/ldavis.v1.0.0.js\", function(){\n",
              "        new LDAvis(\"#\" + \"ldavis_el664139635126373712354083751\", ldavis_el664139635126373712354083751_data);\n",
              "      });\n",
              "    });\n",
              "}else{\n",
              "    // require.js not available: dynamically load d3 & LDAvis\n",
              "    LDAvis_load_lib(\"https://cdnjs.cloudflare.com/ajax/libs/d3/3.5.5/d3.min.js\", function(){\n",
              "         LDAvis_load_lib(\"https://cdn.rawgit.com/bmabey/pyLDAvis/files/ldavis.v1.0.0.js\", function(){\n",
              "                 new LDAvis(\"#\" + \"ldavis_el664139635126373712354083751\", ldavis_el664139635126373712354083751_data);\n",
              "            })\n",
              "         });\n",
              "}\n",
              "</script>"
            ],
            "text/plain": [
              "PreparedData(topic_coordinates=              x         y  topics  cluster       Freq\n",
              "topic                                                \n",
              "1      0.097676 -0.051412       1        1  31.107384\n",
              "2     -0.005336 -0.007618       2        1  27.870157\n",
              "0      0.016763  0.090743       3        1  22.388789\n",
              "3     -0.109103 -0.031713       4        1  18.633670, topic_info=          Term         Freq        Total Category  logprob  loglift\n",
              "364    protein   882.000000   882.000000  Default  30.0000  30.0000\n",
              "56        bind   465.000000   465.000000  Default  29.0000  29.0000\n",
              "260     ligand   438.000000   438.000000  Default  28.0000  28.0000\n",
              "288      model  1623.000000  1623.000000  Default  27.0000  27.0000\n",
              "414      score   260.000000   260.000000  Default  26.0000  26.0000\n",
              "..         ...          ...          ...      ...      ...      ...\n",
              "148       drug   179.764361  2610.927017   Topic4  -4.4114  -0.9956\n",
              "238  inhibitor    85.639406   226.906029   Topic4  -5.1529   0.7058\n",
              "186     featur    90.321977   366.882103   Topic4  -5.0997   0.2785\n",
              "31    approach    99.972270   703.869170   Topic4  -4.9982  -0.2715\n",
              "119       data    86.654084  1078.445708   Topic4  -5.1411  -0.8412\n",
              "\n",
              "[256 rows x 6 columns], token_table=      Topic      Freq      Term\n",
              "term                           \n",
              "5         1  0.028692  accuraci\n",
              "5         2  0.618937  accuraci\n",
              "5         3  0.073781  accuraci\n",
              "5         4  0.278727  accuraci\n",
              "10        1  0.054212     activ\n",
              "...     ...       ...       ...\n",
              "491       3  0.596732    visual\n",
              "491       4  0.187544    visual\n",
              "492       1  0.130115     vitro\n",
              "492       2  0.770682     vitro\n",
              "492       3  0.100089     vitro\n",
              "\n",
              "[639 rows x 3 columns], R=30, lambda_step=0.01, plot_opts={'xlab': 'PC1', 'ylab': 'PC2'}, topic_order=[2, 3, 1, 4])"
            ]
          },
          "metadata": {
            "tags": []
          },
          "execution_count": 22
        }
      ]
    },
    {
      "cell_type": "code",
      "metadata": {
        "id": "BzIJ9nTgoO41"
      },
      "source": [
        ""
      ],
      "execution_count": null,
      "outputs": []
    },
    {
      "cell_type": "code",
      "metadata": {
        "id": "zSzgqRphojf0"
      },
      "source": [
        ""
      ],
      "execution_count": null,
      "outputs": []
    }
  ]
}